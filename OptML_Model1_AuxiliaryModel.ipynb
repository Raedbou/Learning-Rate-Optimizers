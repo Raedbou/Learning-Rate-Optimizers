{
  "nbformat": 4,
  "nbformat_minor": 0,
  "metadata": {
    "kernelspec": {
      "display_name": "Python 3",
      "language": "python",
      "name": "python3"
    },
    "language_info": {
      "codemirror_mode": {
        "name": "ipython",
        "version": 3
      },
      "file_extension": ".py",
      "mimetype": "text/x-python",
      "name": "python",
      "nbconvert_exporter": "python",
      "pygments_lexer": "ipython3",
      "version": "3.7.4"
    },
    "colab": {
      "name": "Untitled(2) (2).ipynb",
      "provenance": [],
      "collapsed_sections": []
    },
    "widgets": {
      "application/vnd.jupyter.widget-state+json": {
        "911d4fb8ec114d719c01933ca5e3d404": {
          "model_module": "@jupyter-widgets/controls",
          "model_name": "HBoxModel",
          "state": {
            "_view_name": "HBoxView",
            "_dom_classes": [],
            "_model_name": "HBoxModel",
            "_view_module": "@jupyter-widgets/controls",
            "_model_module_version": "1.5.0",
            "_view_count": null,
            "_view_module_version": "1.5.0",
            "box_style": "",
            "layout": "IPY_MODEL_bb6d1290dff34faeb1142c56d83b4170",
            "_model_module": "@jupyter-widgets/controls",
            "children": [
              "IPY_MODEL_f672134f30d94c4283da6c08a78ab1e8",
              "IPY_MODEL_de53970ab72e44b0a63127e30f304c6d"
            ]
          }
        },
        "bb6d1290dff34faeb1142c56d83b4170": {
          "model_module": "@jupyter-widgets/base",
          "model_name": "LayoutModel",
          "state": {
            "_view_name": "LayoutView",
            "grid_template_rows": null,
            "right": null,
            "justify_content": null,
            "_view_module": "@jupyter-widgets/base",
            "overflow": null,
            "_model_module_version": "1.2.0",
            "_view_count": null,
            "flex_flow": null,
            "width": null,
            "min_width": null,
            "border": null,
            "align_items": null,
            "bottom": null,
            "_model_module": "@jupyter-widgets/base",
            "top": null,
            "grid_column": null,
            "overflow_y": null,
            "overflow_x": null,
            "grid_auto_flow": null,
            "grid_area": null,
            "grid_template_columns": null,
            "flex": null,
            "_model_name": "LayoutModel",
            "justify_items": null,
            "grid_row": null,
            "max_height": null,
            "align_content": null,
            "visibility": null,
            "align_self": null,
            "height": null,
            "min_height": null,
            "padding": null,
            "grid_auto_rows": null,
            "grid_gap": null,
            "max_width": null,
            "order": null,
            "_view_module_version": "1.2.0",
            "grid_template_areas": null,
            "object_position": null,
            "object_fit": null,
            "grid_auto_columns": null,
            "margin": null,
            "display": null,
            "left": null
          }
        },
        "f672134f30d94c4283da6c08a78ab1e8": {
          "model_module": "@jupyter-widgets/controls",
          "model_name": "FloatProgressModel",
          "state": {
            "_view_name": "ProgressView",
            "style": "IPY_MODEL_b6579e091e404fa59fbdb04ba2188c26",
            "_dom_classes": [],
            "description": "",
            "_model_name": "FloatProgressModel",
            "bar_style": "success",
            "max": 9912422,
            "_view_module": "@jupyter-widgets/controls",
            "_model_module_version": "1.5.0",
            "value": 9912422,
            "_view_count": null,
            "_view_module_version": "1.5.0",
            "orientation": "horizontal",
            "min": 0,
            "description_tooltip": null,
            "_model_module": "@jupyter-widgets/controls",
            "layout": "IPY_MODEL_5add68508a96466aa0f9428bc12fd652"
          }
        },
        "de53970ab72e44b0a63127e30f304c6d": {
          "model_module": "@jupyter-widgets/controls",
          "model_name": "HTMLModel",
          "state": {
            "_view_name": "HTMLView",
            "style": "IPY_MODEL_08cfbd644da04b3d9aee485d9eb4e850",
            "_dom_classes": [],
            "description": "",
            "_model_name": "HTMLModel",
            "placeholder": "​",
            "_view_module": "@jupyter-widgets/controls",
            "_model_module_version": "1.5.0",
            "value": " 9913344/? [05:03&lt;00:00, 32660.57it/s]",
            "_view_count": null,
            "_view_module_version": "1.5.0",
            "description_tooltip": null,
            "_model_module": "@jupyter-widgets/controls",
            "layout": "IPY_MODEL_72b145120efc4346b61b4842bb9d10f7"
          }
        },
        "b6579e091e404fa59fbdb04ba2188c26": {
          "model_module": "@jupyter-widgets/controls",
          "model_name": "ProgressStyleModel",
          "state": {
            "_view_name": "StyleView",
            "_model_name": "ProgressStyleModel",
            "description_width": "initial",
            "_view_module": "@jupyter-widgets/base",
            "_model_module_version": "1.5.0",
            "_view_count": null,
            "_view_module_version": "1.2.0",
            "bar_color": null,
            "_model_module": "@jupyter-widgets/controls"
          }
        },
        "5add68508a96466aa0f9428bc12fd652": {
          "model_module": "@jupyter-widgets/base",
          "model_name": "LayoutModel",
          "state": {
            "_view_name": "LayoutView",
            "grid_template_rows": null,
            "right": null,
            "justify_content": null,
            "_view_module": "@jupyter-widgets/base",
            "overflow": null,
            "_model_module_version": "1.2.0",
            "_view_count": null,
            "flex_flow": null,
            "width": null,
            "min_width": null,
            "border": null,
            "align_items": null,
            "bottom": null,
            "_model_module": "@jupyter-widgets/base",
            "top": null,
            "grid_column": null,
            "overflow_y": null,
            "overflow_x": null,
            "grid_auto_flow": null,
            "grid_area": null,
            "grid_template_columns": null,
            "flex": null,
            "_model_name": "LayoutModel",
            "justify_items": null,
            "grid_row": null,
            "max_height": null,
            "align_content": null,
            "visibility": null,
            "align_self": null,
            "height": null,
            "min_height": null,
            "padding": null,
            "grid_auto_rows": null,
            "grid_gap": null,
            "max_width": null,
            "order": null,
            "_view_module_version": "1.2.0",
            "grid_template_areas": null,
            "object_position": null,
            "object_fit": null,
            "grid_auto_columns": null,
            "margin": null,
            "display": null,
            "left": null
          }
        },
        "08cfbd644da04b3d9aee485d9eb4e850": {
          "model_module": "@jupyter-widgets/controls",
          "model_name": "DescriptionStyleModel",
          "state": {
            "_view_name": "StyleView",
            "_model_name": "DescriptionStyleModel",
            "description_width": "",
            "_view_module": "@jupyter-widgets/base",
            "_model_module_version": "1.5.0",
            "_view_count": null,
            "_view_module_version": "1.2.0",
            "_model_module": "@jupyter-widgets/controls"
          }
        },
        "72b145120efc4346b61b4842bb9d10f7": {
          "model_module": "@jupyter-widgets/base",
          "model_name": "LayoutModel",
          "state": {
            "_view_name": "LayoutView",
            "grid_template_rows": null,
            "right": null,
            "justify_content": null,
            "_view_module": "@jupyter-widgets/base",
            "overflow": null,
            "_model_module_version": "1.2.0",
            "_view_count": null,
            "flex_flow": null,
            "width": null,
            "min_width": null,
            "border": null,
            "align_items": null,
            "bottom": null,
            "_model_module": "@jupyter-widgets/base",
            "top": null,
            "grid_column": null,
            "overflow_y": null,
            "overflow_x": null,
            "grid_auto_flow": null,
            "grid_area": null,
            "grid_template_columns": null,
            "flex": null,
            "_model_name": "LayoutModel",
            "justify_items": null,
            "grid_row": null,
            "max_height": null,
            "align_content": null,
            "visibility": null,
            "align_self": null,
            "height": null,
            "min_height": null,
            "padding": null,
            "grid_auto_rows": null,
            "grid_gap": null,
            "max_width": null,
            "order": null,
            "_view_module_version": "1.2.0",
            "grid_template_areas": null,
            "object_position": null,
            "object_fit": null,
            "grid_auto_columns": null,
            "margin": null,
            "display": null,
            "left": null
          }
        },
        "a04123ec66de4d7686def3a77762c999": {
          "model_module": "@jupyter-widgets/controls",
          "model_name": "HBoxModel",
          "state": {
            "_view_name": "HBoxView",
            "_dom_classes": [],
            "_model_name": "HBoxModel",
            "_view_module": "@jupyter-widgets/controls",
            "_model_module_version": "1.5.0",
            "_view_count": null,
            "_view_module_version": "1.5.0",
            "box_style": "",
            "layout": "IPY_MODEL_a821a675631d4b97ac3b2f6b70f5acbb",
            "_model_module": "@jupyter-widgets/controls",
            "children": [
              "IPY_MODEL_50be59827f01443bb0adb2121bee74bf",
              "IPY_MODEL_b9185eb7f9d64410bfeb4350616c8fd0"
            ]
          }
        },
        "a821a675631d4b97ac3b2f6b70f5acbb": {
          "model_module": "@jupyter-widgets/base",
          "model_name": "LayoutModel",
          "state": {
            "_view_name": "LayoutView",
            "grid_template_rows": null,
            "right": null,
            "justify_content": null,
            "_view_module": "@jupyter-widgets/base",
            "overflow": null,
            "_model_module_version": "1.2.0",
            "_view_count": null,
            "flex_flow": null,
            "width": null,
            "min_width": null,
            "border": null,
            "align_items": null,
            "bottom": null,
            "_model_module": "@jupyter-widgets/base",
            "top": null,
            "grid_column": null,
            "overflow_y": null,
            "overflow_x": null,
            "grid_auto_flow": null,
            "grid_area": null,
            "grid_template_columns": null,
            "flex": null,
            "_model_name": "LayoutModel",
            "justify_items": null,
            "grid_row": null,
            "max_height": null,
            "align_content": null,
            "visibility": null,
            "align_self": null,
            "height": null,
            "min_height": null,
            "padding": null,
            "grid_auto_rows": null,
            "grid_gap": null,
            "max_width": null,
            "order": null,
            "_view_module_version": "1.2.0",
            "grid_template_areas": null,
            "object_position": null,
            "object_fit": null,
            "grid_auto_columns": null,
            "margin": null,
            "display": null,
            "left": null
          }
        },
        "50be59827f01443bb0adb2121bee74bf": {
          "model_module": "@jupyter-widgets/controls",
          "model_name": "FloatProgressModel",
          "state": {
            "_view_name": "ProgressView",
            "style": "IPY_MODEL_9f9d9917a4d640dbbe05a00727205046",
            "_dom_classes": [],
            "description": "",
            "_model_name": "FloatProgressModel",
            "bar_style": "success",
            "max": 28881,
            "_view_module": "@jupyter-widgets/controls",
            "_model_module_version": "1.5.0",
            "value": 28881,
            "_view_count": null,
            "_view_module_version": "1.5.0",
            "orientation": "horizontal",
            "min": 0,
            "description_tooltip": null,
            "_model_module": "@jupyter-widgets/controls",
            "layout": "IPY_MODEL_d40fd4e76a1e4a79b808d33e5d96d3e2"
          }
        },
        "b9185eb7f9d64410bfeb4350616c8fd0": {
          "model_module": "@jupyter-widgets/controls",
          "model_name": "HTMLModel",
          "state": {
            "_view_name": "HTMLView",
            "style": "IPY_MODEL_1758969b85f848718a139366ed6ecd77",
            "_dom_classes": [],
            "description": "",
            "_model_name": "HTMLModel",
            "placeholder": "​",
            "_view_module": "@jupyter-widgets/controls",
            "_model_module_version": "1.5.0",
            "value": " 29696/? [00:06&lt;00:00, 4895.20it/s]",
            "_view_count": null,
            "_view_module_version": "1.5.0",
            "description_tooltip": null,
            "_model_module": "@jupyter-widgets/controls",
            "layout": "IPY_MODEL_787abd270b0d421ab770e35ce9ebbf2c"
          }
        },
        "9f9d9917a4d640dbbe05a00727205046": {
          "model_module": "@jupyter-widgets/controls",
          "model_name": "ProgressStyleModel",
          "state": {
            "_view_name": "StyleView",
            "_model_name": "ProgressStyleModel",
            "description_width": "initial",
            "_view_module": "@jupyter-widgets/base",
            "_model_module_version": "1.5.0",
            "_view_count": null,
            "_view_module_version": "1.2.0",
            "bar_color": null,
            "_model_module": "@jupyter-widgets/controls"
          }
        },
        "d40fd4e76a1e4a79b808d33e5d96d3e2": {
          "model_module": "@jupyter-widgets/base",
          "model_name": "LayoutModel",
          "state": {
            "_view_name": "LayoutView",
            "grid_template_rows": null,
            "right": null,
            "justify_content": null,
            "_view_module": "@jupyter-widgets/base",
            "overflow": null,
            "_model_module_version": "1.2.0",
            "_view_count": null,
            "flex_flow": null,
            "width": null,
            "min_width": null,
            "border": null,
            "align_items": null,
            "bottom": null,
            "_model_module": "@jupyter-widgets/base",
            "top": null,
            "grid_column": null,
            "overflow_y": null,
            "overflow_x": null,
            "grid_auto_flow": null,
            "grid_area": null,
            "grid_template_columns": null,
            "flex": null,
            "_model_name": "LayoutModel",
            "justify_items": null,
            "grid_row": null,
            "max_height": null,
            "align_content": null,
            "visibility": null,
            "align_self": null,
            "height": null,
            "min_height": null,
            "padding": null,
            "grid_auto_rows": null,
            "grid_gap": null,
            "max_width": null,
            "order": null,
            "_view_module_version": "1.2.0",
            "grid_template_areas": null,
            "object_position": null,
            "object_fit": null,
            "grid_auto_columns": null,
            "margin": null,
            "display": null,
            "left": null
          }
        },
        "1758969b85f848718a139366ed6ecd77": {
          "model_module": "@jupyter-widgets/controls",
          "model_name": "DescriptionStyleModel",
          "state": {
            "_view_name": "StyleView",
            "_model_name": "DescriptionStyleModel",
            "description_width": "",
            "_view_module": "@jupyter-widgets/base",
            "_model_module_version": "1.5.0",
            "_view_count": null,
            "_view_module_version": "1.2.0",
            "_model_module": "@jupyter-widgets/controls"
          }
        },
        "787abd270b0d421ab770e35ce9ebbf2c": {
          "model_module": "@jupyter-widgets/base",
          "model_name": "LayoutModel",
          "state": {
            "_view_name": "LayoutView",
            "grid_template_rows": null,
            "right": null,
            "justify_content": null,
            "_view_module": "@jupyter-widgets/base",
            "overflow": null,
            "_model_module_version": "1.2.0",
            "_view_count": null,
            "flex_flow": null,
            "width": null,
            "min_width": null,
            "border": null,
            "align_items": null,
            "bottom": null,
            "_model_module": "@jupyter-widgets/base",
            "top": null,
            "grid_column": null,
            "overflow_y": null,
            "overflow_x": null,
            "grid_auto_flow": null,
            "grid_area": null,
            "grid_template_columns": null,
            "flex": null,
            "_model_name": "LayoutModel",
            "justify_items": null,
            "grid_row": null,
            "max_height": null,
            "align_content": null,
            "visibility": null,
            "align_self": null,
            "height": null,
            "min_height": null,
            "padding": null,
            "grid_auto_rows": null,
            "grid_gap": null,
            "max_width": null,
            "order": null,
            "_view_module_version": "1.2.0",
            "grid_template_areas": null,
            "object_position": null,
            "object_fit": null,
            "grid_auto_columns": null,
            "margin": null,
            "display": null,
            "left": null
          }
        },
        "68799e0f48074cb7bd023cb2ebea9107": {
          "model_module": "@jupyter-widgets/controls",
          "model_name": "HBoxModel",
          "state": {
            "_view_name": "HBoxView",
            "_dom_classes": [],
            "_model_name": "HBoxModel",
            "_view_module": "@jupyter-widgets/controls",
            "_model_module_version": "1.5.0",
            "_view_count": null,
            "_view_module_version": "1.5.0",
            "box_style": "",
            "layout": "IPY_MODEL_9dbc75e943224ee9b03868b19b686283",
            "_model_module": "@jupyter-widgets/controls",
            "children": [
              "IPY_MODEL_c6f622b4d13046338755402acdb435e5",
              "IPY_MODEL_b66bb05c36724781b691f1d0da3569c4"
            ]
          }
        },
        "9dbc75e943224ee9b03868b19b686283": {
          "model_module": "@jupyter-widgets/base",
          "model_name": "LayoutModel",
          "state": {
            "_view_name": "LayoutView",
            "grid_template_rows": null,
            "right": null,
            "justify_content": null,
            "_view_module": "@jupyter-widgets/base",
            "overflow": null,
            "_model_module_version": "1.2.0",
            "_view_count": null,
            "flex_flow": null,
            "width": null,
            "min_width": null,
            "border": null,
            "align_items": null,
            "bottom": null,
            "_model_module": "@jupyter-widgets/base",
            "top": null,
            "grid_column": null,
            "overflow_y": null,
            "overflow_x": null,
            "grid_auto_flow": null,
            "grid_area": null,
            "grid_template_columns": null,
            "flex": null,
            "_model_name": "LayoutModel",
            "justify_items": null,
            "grid_row": null,
            "max_height": null,
            "align_content": null,
            "visibility": null,
            "align_self": null,
            "height": null,
            "min_height": null,
            "padding": null,
            "grid_auto_rows": null,
            "grid_gap": null,
            "max_width": null,
            "order": null,
            "_view_module_version": "1.2.0",
            "grid_template_areas": null,
            "object_position": null,
            "object_fit": null,
            "grid_auto_columns": null,
            "margin": null,
            "display": null,
            "left": null
          }
        },
        "c6f622b4d13046338755402acdb435e5": {
          "model_module": "@jupyter-widgets/controls",
          "model_name": "FloatProgressModel",
          "state": {
            "_view_name": "ProgressView",
            "style": "IPY_MODEL_21e60f01192a44cfb919fb9c59a11229",
            "_dom_classes": [],
            "description": "",
            "_model_name": "FloatProgressModel",
            "bar_style": "success",
            "max": 1648877,
            "_view_module": "@jupyter-widgets/controls",
            "_model_module_version": "1.5.0",
            "value": 1648877,
            "_view_count": null,
            "_view_module_version": "1.5.0",
            "orientation": "horizontal",
            "min": 0,
            "description_tooltip": null,
            "_model_module": "@jupyter-widgets/controls",
            "layout": "IPY_MODEL_06bd01687b254ce0b6b82af0fc90bb6f"
          }
        },
        "b66bb05c36724781b691f1d0da3569c4": {
          "model_module": "@jupyter-widgets/controls",
          "model_name": "HTMLModel",
          "state": {
            "_view_name": "HTMLView",
            "style": "IPY_MODEL_2d3fa49c494e48bbb2ee4e193bbd58cc",
            "_dom_classes": [],
            "description": "",
            "_model_name": "HTMLModel",
            "placeholder": "​",
            "_view_module": "@jupyter-widgets/controls",
            "_model_module_version": "1.5.0",
            "value": " 1649664/? [00:03&lt;00:00, 421114.28it/s]",
            "_view_count": null,
            "_view_module_version": "1.5.0",
            "description_tooltip": null,
            "_model_module": "@jupyter-widgets/controls",
            "layout": "IPY_MODEL_e36793b8ccc14ee7a574484fd7a3531e"
          }
        },
        "21e60f01192a44cfb919fb9c59a11229": {
          "model_module": "@jupyter-widgets/controls",
          "model_name": "ProgressStyleModel",
          "state": {
            "_view_name": "StyleView",
            "_model_name": "ProgressStyleModel",
            "description_width": "initial",
            "_view_module": "@jupyter-widgets/base",
            "_model_module_version": "1.5.0",
            "_view_count": null,
            "_view_module_version": "1.2.0",
            "bar_color": null,
            "_model_module": "@jupyter-widgets/controls"
          }
        },
        "06bd01687b254ce0b6b82af0fc90bb6f": {
          "model_module": "@jupyter-widgets/base",
          "model_name": "LayoutModel",
          "state": {
            "_view_name": "LayoutView",
            "grid_template_rows": null,
            "right": null,
            "justify_content": null,
            "_view_module": "@jupyter-widgets/base",
            "overflow": null,
            "_model_module_version": "1.2.0",
            "_view_count": null,
            "flex_flow": null,
            "width": null,
            "min_width": null,
            "border": null,
            "align_items": null,
            "bottom": null,
            "_model_module": "@jupyter-widgets/base",
            "top": null,
            "grid_column": null,
            "overflow_y": null,
            "overflow_x": null,
            "grid_auto_flow": null,
            "grid_area": null,
            "grid_template_columns": null,
            "flex": null,
            "_model_name": "LayoutModel",
            "justify_items": null,
            "grid_row": null,
            "max_height": null,
            "align_content": null,
            "visibility": null,
            "align_self": null,
            "height": null,
            "min_height": null,
            "padding": null,
            "grid_auto_rows": null,
            "grid_gap": null,
            "max_width": null,
            "order": null,
            "_view_module_version": "1.2.0",
            "grid_template_areas": null,
            "object_position": null,
            "object_fit": null,
            "grid_auto_columns": null,
            "margin": null,
            "display": null,
            "left": null
          }
        },
        "2d3fa49c494e48bbb2ee4e193bbd58cc": {
          "model_module": "@jupyter-widgets/controls",
          "model_name": "DescriptionStyleModel",
          "state": {
            "_view_name": "StyleView",
            "_model_name": "DescriptionStyleModel",
            "description_width": "",
            "_view_module": "@jupyter-widgets/base",
            "_model_module_version": "1.5.0",
            "_view_count": null,
            "_view_module_version": "1.2.0",
            "_model_module": "@jupyter-widgets/controls"
          }
        },
        "e36793b8ccc14ee7a574484fd7a3531e": {
          "model_module": "@jupyter-widgets/base",
          "model_name": "LayoutModel",
          "state": {
            "_view_name": "LayoutView",
            "grid_template_rows": null,
            "right": null,
            "justify_content": null,
            "_view_module": "@jupyter-widgets/base",
            "overflow": null,
            "_model_module_version": "1.2.0",
            "_view_count": null,
            "flex_flow": null,
            "width": null,
            "min_width": null,
            "border": null,
            "align_items": null,
            "bottom": null,
            "_model_module": "@jupyter-widgets/base",
            "top": null,
            "grid_column": null,
            "overflow_y": null,
            "overflow_x": null,
            "grid_auto_flow": null,
            "grid_area": null,
            "grid_template_columns": null,
            "flex": null,
            "_model_name": "LayoutModel",
            "justify_items": null,
            "grid_row": null,
            "max_height": null,
            "align_content": null,
            "visibility": null,
            "align_self": null,
            "height": null,
            "min_height": null,
            "padding": null,
            "grid_auto_rows": null,
            "grid_gap": null,
            "max_width": null,
            "order": null,
            "_view_module_version": "1.2.0",
            "grid_template_areas": null,
            "object_position": null,
            "object_fit": null,
            "grid_auto_columns": null,
            "margin": null,
            "display": null,
            "left": null
          }
        },
        "fca81a9c830445eb8b9198ee0b35fbee": {
          "model_module": "@jupyter-widgets/controls",
          "model_name": "HBoxModel",
          "state": {
            "_view_name": "HBoxView",
            "_dom_classes": [],
            "_model_name": "HBoxModel",
            "_view_module": "@jupyter-widgets/controls",
            "_model_module_version": "1.5.0",
            "_view_count": null,
            "_view_module_version": "1.5.0",
            "box_style": "",
            "layout": "IPY_MODEL_379924ff756248a68878753e601af8fe",
            "_model_module": "@jupyter-widgets/controls",
            "children": [
              "IPY_MODEL_01fc0f755d4b4fbc9bdf85a7a883a447",
              "IPY_MODEL_e52eb1625de54dc6966017b55e04aefa"
            ]
          }
        },
        "379924ff756248a68878753e601af8fe": {
          "model_module": "@jupyter-widgets/base",
          "model_name": "LayoutModel",
          "state": {
            "_view_name": "LayoutView",
            "grid_template_rows": null,
            "right": null,
            "justify_content": null,
            "_view_module": "@jupyter-widgets/base",
            "overflow": null,
            "_model_module_version": "1.2.0",
            "_view_count": null,
            "flex_flow": null,
            "width": null,
            "min_width": null,
            "border": null,
            "align_items": null,
            "bottom": null,
            "_model_module": "@jupyter-widgets/base",
            "top": null,
            "grid_column": null,
            "overflow_y": null,
            "overflow_x": null,
            "grid_auto_flow": null,
            "grid_area": null,
            "grid_template_columns": null,
            "flex": null,
            "_model_name": "LayoutModel",
            "justify_items": null,
            "grid_row": null,
            "max_height": null,
            "align_content": null,
            "visibility": null,
            "align_self": null,
            "height": null,
            "min_height": null,
            "padding": null,
            "grid_auto_rows": null,
            "grid_gap": null,
            "max_width": null,
            "order": null,
            "_view_module_version": "1.2.0",
            "grid_template_areas": null,
            "object_position": null,
            "object_fit": null,
            "grid_auto_columns": null,
            "margin": null,
            "display": null,
            "left": null
          }
        },
        "01fc0f755d4b4fbc9bdf85a7a883a447": {
          "model_module": "@jupyter-widgets/controls",
          "model_name": "FloatProgressModel",
          "state": {
            "_view_name": "ProgressView",
            "style": "IPY_MODEL_db212e3d5f074083a11fc66bef797e0d",
            "_dom_classes": [],
            "description": "",
            "_model_name": "FloatProgressModel",
            "bar_style": "success",
            "max": 4542,
            "_view_module": "@jupyter-widgets/controls",
            "_model_module_version": "1.5.0",
            "value": 4542,
            "_view_count": null,
            "_view_module_version": "1.5.0",
            "orientation": "horizontal",
            "min": 0,
            "description_tooltip": null,
            "_model_module": "@jupyter-widgets/controls",
            "layout": "IPY_MODEL_55a2ee9639384943ae387fd8b8fdb585"
          }
        },
        "e52eb1625de54dc6966017b55e04aefa": {
          "model_module": "@jupyter-widgets/controls",
          "model_name": "HTMLModel",
          "state": {
            "_view_name": "HTMLView",
            "style": "IPY_MODEL_5912d7347b5c481fac4ac796684429e4",
            "_dom_classes": [],
            "description": "",
            "_model_name": "HTMLModel",
            "placeholder": "​",
            "_view_module": "@jupyter-widgets/controls",
            "_model_module_version": "1.5.0",
            "value": " 5120/? [00:00&lt;00:00, 8888.75it/s]",
            "_view_count": null,
            "_view_module_version": "1.5.0",
            "description_tooltip": null,
            "_model_module": "@jupyter-widgets/controls",
            "layout": "IPY_MODEL_494287481a6b4702928ed4245261bd66"
          }
        },
        "db212e3d5f074083a11fc66bef797e0d": {
          "model_module": "@jupyter-widgets/controls",
          "model_name": "ProgressStyleModel",
          "state": {
            "_view_name": "StyleView",
            "_model_name": "ProgressStyleModel",
            "description_width": "initial",
            "_view_module": "@jupyter-widgets/base",
            "_model_module_version": "1.5.0",
            "_view_count": null,
            "_view_module_version": "1.2.0",
            "bar_color": null,
            "_model_module": "@jupyter-widgets/controls"
          }
        },
        "55a2ee9639384943ae387fd8b8fdb585": {
          "model_module": "@jupyter-widgets/base",
          "model_name": "LayoutModel",
          "state": {
            "_view_name": "LayoutView",
            "grid_template_rows": null,
            "right": null,
            "justify_content": null,
            "_view_module": "@jupyter-widgets/base",
            "overflow": null,
            "_model_module_version": "1.2.0",
            "_view_count": null,
            "flex_flow": null,
            "width": null,
            "min_width": null,
            "border": null,
            "align_items": null,
            "bottom": null,
            "_model_module": "@jupyter-widgets/base",
            "top": null,
            "grid_column": null,
            "overflow_y": null,
            "overflow_x": null,
            "grid_auto_flow": null,
            "grid_area": null,
            "grid_template_columns": null,
            "flex": null,
            "_model_name": "LayoutModel",
            "justify_items": null,
            "grid_row": null,
            "max_height": null,
            "align_content": null,
            "visibility": null,
            "align_self": null,
            "height": null,
            "min_height": null,
            "padding": null,
            "grid_auto_rows": null,
            "grid_gap": null,
            "max_width": null,
            "order": null,
            "_view_module_version": "1.2.0",
            "grid_template_areas": null,
            "object_position": null,
            "object_fit": null,
            "grid_auto_columns": null,
            "margin": null,
            "display": null,
            "left": null
          }
        },
        "5912d7347b5c481fac4ac796684429e4": {
          "model_module": "@jupyter-widgets/controls",
          "model_name": "DescriptionStyleModel",
          "state": {
            "_view_name": "StyleView",
            "_model_name": "DescriptionStyleModel",
            "description_width": "",
            "_view_module": "@jupyter-widgets/base",
            "_model_module_version": "1.5.0",
            "_view_count": null,
            "_view_module_version": "1.2.0",
            "_model_module": "@jupyter-widgets/controls"
          }
        },
        "494287481a6b4702928ed4245261bd66": {
          "model_module": "@jupyter-widgets/base",
          "model_name": "LayoutModel",
          "state": {
            "_view_name": "LayoutView",
            "grid_template_rows": null,
            "right": null,
            "justify_content": null,
            "_view_module": "@jupyter-widgets/base",
            "overflow": null,
            "_model_module_version": "1.2.0",
            "_view_count": null,
            "flex_flow": null,
            "width": null,
            "min_width": null,
            "border": null,
            "align_items": null,
            "bottom": null,
            "_model_module": "@jupyter-widgets/base",
            "top": null,
            "grid_column": null,
            "overflow_y": null,
            "overflow_x": null,
            "grid_auto_flow": null,
            "grid_area": null,
            "grid_template_columns": null,
            "flex": null,
            "_model_name": "LayoutModel",
            "justify_items": null,
            "grid_row": null,
            "max_height": null,
            "align_content": null,
            "visibility": null,
            "align_self": null,
            "height": null,
            "min_height": null,
            "padding": null,
            "grid_auto_rows": null,
            "grid_gap": null,
            "max_width": null,
            "order": null,
            "_view_module_version": "1.2.0",
            "grid_template_areas": null,
            "object_position": null,
            "object_fit": null,
            "grid_auto_columns": null,
            "margin": null,
            "display": null,
            "left": null
          }
        }
      }
    }
  },
  "cells": [
    {
      "cell_type": "markdown",
      "metadata": {
        "id": "0GYBv73MtJfz"
      },
      "source": [
        "# Data generation\n",
        "To generate our datasets we used a parser created by an epfl professor: François Fleuret. On the site he writes the consent for academic use."
      ]
    },
    {
      "cell_type": "code",
      "metadata": {
        "id": "2ZkTZQKutJf3"
      },
      "source": [
        "import torch\n",
        "from torchvision import datasets\n",
        "\n",
        "import argparse\n",
        "import os\n",
        "\n",
        "import urllib\n",
        "\n",
        "######################################################################\n",
        "#THIS PARSER IS TAKEN FROM THE WEBSITE: https://fleuret.org/dlc/\n",
        "#We use it to simply generate our data sets containig pairs of Mnist images with digit labels and testclasses\n",
        "######################################################################\n",
        "\n",
        "parser = argparse.ArgumentParser(description='DLC prologue file for practical sessions.')\n",
        "\n",
        "parser.add_argument('--full',\n",
        "                    action='store_true', default=False,\n",
        "                    help='Use the full set, can take ages (default False)')\n",
        "\n",
        "parser.add_argument('--tiny',\n",
        "                    action='store_true', default=False,\n",
        "                    help='Use a very small set for quick checks (default False)')\n",
        "\n",
        "parser.add_argument('--seed',\n",
        "                    type=int, default=0,\n",
        "                    help='Random seed (default 0, < 0 is no seeding)')\n",
        "\n",
        "parser.add_argument('--cifar',\n",
        "                    action='store_true', default=False,\n",
        "                    help='Use the CIFAR data-set and not MNIST (default False)')\n",
        "\n",
        "parser.add_argument('--data_dir',\n",
        "                    type=str, default=None,\n",
        "                    help='Where are the PyTorch data located (default $PYTORCH_DATA_DIR or \\'./data\\')')\n",
        "\n",
        "# Timur's fix\n",
        "parser.add_argument('-f', '--file',\n",
        "                    help='quick hack for jupyter')\n",
        "\n",
        "args = parser.parse_args()\n",
        "\n",
        "if args.seed >= 0:\n",
        "    torch.manual_seed(args.seed)\n",
        "\n",
        "\n",
        "######################################################################\n",
        "# The data\n",
        "\n",
        "def convert_to_one_hot_labels(input, target):\n",
        "    tmp = input.new_zeros(target.size(0), target.max() + 1)\n",
        "    tmp.scatter_(1, target.view(-1, 1), 1.0)\n",
        "    return tmp\n",
        "\n",
        "\n",
        "def load_data(cifar=None, one_hot_labels=False, normalize=False, flatten=True):\n",
        "    if args.data_dir is not None:\n",
        "        data_dir = args.data_dir\n",
        "    else:\n",
        "        data_dir = os.environ.get('PYTORCH_DATA_DIR')\n",
        "        if data_dir is None:\n",
        "            data_dir = './data'\n",
        "\n",
        "    if args.cifar or (cifar is not None and cifar):\n",
        "        print('* Using CIFAR')\n",
        "        cifar_train_set = datasets.CIFAR10(data_dir + '/cifar10/', train=True, download=True)\n",
        "        cifar_test_set = datasets.CIFAR10(data_dir + '/cifar10/', train=False, download=True)\n",
        "\n",
        "        train_input = torch.from_numpy(cifar_train_set.data)\n",
        "        train_input = train_input.transpose(3, 1).transpose(2, 3).float()\n",
        "        train_target = torch.tensor(cifar_train_set.targets, dtype=torch.int64)\n",
        "\n",
        "        test_input = torch.from_numpy(cifar_test_set.data).float()\n",
        "        test_input = test_input.transpose(3, 1).transpose(2, 3).float()\n",
        "        test_target = torch.tensor(cifar_test_set.targets, dtype=torch.int64)\n",
        "\n",
        "    else:\n",
        "        print('* Using MNIST')\n",
        "\n",
        "        ######################################################################\n",
        "        # import torchvision\n",
        "\n",
        "        # raw_folder = data_dir + '/mnist/raw/'\n",
        "        # resources = [\n",
        "        # (\"https://fleuret.org/dlc/data/train-images-idx3-ubyte.gz\", \"f68b3c2dcbeaaa9fbdd348bbdeb94873\"),\n",
        "        # (\"https://fleuret.org/dlc/data/train-labels-idx1-ubyte.gz\", \"d53e105ee54ea40749a09fcbcd1e9432\"),\n",
        "        # (\"https://fleuret.org/dlc/data/t10k-images-idx3-ubyte.gz\", \"9fb629c4189551a2d022fa330f9573f3\"),\n",
        "        # (\"https://fleuret.org/dlc/data/t10k-labels-idx1-ubyte.gz\", \"ec29112dd5afa0611ce80d1b7f02629c\")\n",
        "        # ]\n",
        "\n",
        "        # os.makedirs(raw_folder, exist_ok=True)\n",
        "\n",
        "        # # download files\n",
        "        # for url, md5 in resources:\n",
        "        # filename = url.rpartition('/')[2]\n",
        "        # torchvision.datasets.utils.download_and_extract_archive(url, download_root=raw_folder, filename=filename, md5=md5)\n",
        "        ######################################################################\n",
        "\n",
        "        mnist_train_set = datasets.MNIST(data_dir + '/mnist/', train=True, download=True)\n",
        "        mnist_test_set = datasets.MNIST(data_dir + '/mnist/', train=False, download=True)\n",
        "\n",
        "        train_input = mnist_train_set.data.view(-1, 1, 28, 28).float()\n",
        "        train_target = mnist_train_set.targets\n",
        "        test_input = mnist_test_set.data.view(-1, 1, 28, 28).float()\n",
        "        test_target = mnist_test_set.targets\n",
        "\n",
        "    if flatten:\n",
        "        train_input = train_input.clone().reshape(train_input.size(0), -1)\n",
        "        test_input = test_input.clone().reshape(test_input.size(0), -1)\n",
        "\n",
        "    if args.full:\n",
        "        if args.tiny:\n",
        "            raise ValueError('Cannot have both --full and --tiny')\n",
        "    else:\n",
        "        if args.tiny:\n",
        "            print('** Reduce the data-set to the tiny setup')\n",
        "            train_input = train_input.narrow(0, 0, 500)\n",
        "            train_target = train_target.narrow(0, 0, 500)\n",
        "            test_input = test_input.narrow(0, 0, 100)\n",
        "            test_target = test_target.narrow(0, 0, 100)\n",
        "        else:\n",
        "            print('** Reduce the data-set (use --full for the full thing)')\n",
        "            train_input = train_input.narrow(0, 0, 1000)\n",
        "            train_target = train_target.narrow(0, 0, 1000)\n",
        "            test_input = test_input.narrow(0, 0, 1000)\n",
        "            test_target = test_target.narrow(0, 0, 1000)\n",
        "\n",
        "    print('** Use {:d} train and {:d} test samples'.format(train_input.size(0), test_input.size(0)))\n",
        "\n",
        "    if one_hot_labels:\n",
        "        train_target = convert_to_one_hot_labels(train_input, train_target)\n",
        "        test_target = convert_to_one_hot_labels(test_input, test_target)\n",
        "\n",
        "    if normalize:\n",
        "        mu, std = train_input.mean(), train_input.std()\n",
        "        train_input.sub_(mu).div_(std)\n",
        "        test_input.sub_(mu).div_(std)\n",
        "\n",
        "    return train_input, train_target, test_input, test_target\n",
        "\n",
        "\n",
        "######################################################################\n",
        "\n",
        "def mnist_to_pairs(nb, input, target):\n",
        "    input = torch.functional.F.avg_pool2d(input, kernel_size=2)\n",
        "    a = torch.randperm(input.size(0))\n",
        "    a = a[:2 * nb].view(nb, 2)\n",
        "    input = torch.cat((input[a[:, 0]], input[a[:, 1]]), 1)\n",
        "    classes = target[a]\n",
        "    target = (classes[:, 0] <= classes[:, 1]).long()\n",
        "    return input, target, classes\n",
        "\n",
        "\n",
        "######################################################################\n",
        "\n",
        "def generate_pair_sets(nb):\n",
        "    if args.data_dir is not None:\n",
        "        data_dir = args.data_dir\n",
        "    else:\n",
        "        data_dir = os.environ.get('PYTORCH_DATA_DIR')\n",
        "        if data_dir is None:\n",
        "            data_dir = './data'\n",
        "\n",
        "    train_set = datasets.MNIST(data_dir + '/mnist/', train=True, download=True)\n",
        "    train_input = train_set.data.view(-1, 1, 28, 28).float()\n",
        "    train_target = train_set.targets\n",
        "\n",
        "    test_set = datasets.MNIST(data_dir + '/mnist/', train=False, download=True)\n",
        "    test_input = test_set.data.view(-1, 1, 28, 28).float()\n",
        "    test_target = test_set.targets\n",
        "\n",
        "    train_input, train_target, train_classes = mnist_to_pairs(nb, train_input, train_target)\n",
        "    test_input, test_target, test_classes = mnist_to_pairs(nb, test_input, test_target)\n",
        "\n",
        "    train_input, test_input = standardize(train_input, test_input)\n",
        "    # train_input, test_input = normalize_min_max(train_input, test_input)\n",
        "    return train_input, train_target, train_classes, test_input, test_target, test_classes\n",
        "\n",
        "\n",
        "######################################################################\n",
        "\n",
        "def standardize(train_input, test_input):\n",
        "    \"\"\" Standardize the data using mean and standard deviations \"\"\"\n",
        "    mean = train_input.mean()\n",
        "    std = train_input.std()\n",
        "\n",
        "    return (train_input - mean) / std, (test_input - mean) / std\n",
        "\n",
        "\n",
        "def normalize_min_max(train_input, test_input):\n",
        "    \"\"\" normalize using min max \"\"\"\n",
        "    min_ = train_input.min()\n",
        "    max_min = train_input.max() - min_\n",
        "    return (train_input - min_) / max_min, (test_input - min_) / max_min"
      ],
      "execution_count": 1,
      "outputs": []
    },
    {
      "cell_type": "markdown",
      "metadata": {
        "id": "8hMUDa3ntJf5"
      },
      "source": [
        "# Optimization for machine learning project: Can we learn the learning rate?\n",
        "The goal of this project is to understand if it is possible to learn the learning-rate. To do this we have chosen a problem, given two images taken from MNIST dataset, to recognize which of the two is larger. To have a slightly wider result, we decided to create 2 models with different architectures. A neural network that uses Auxiliary loss, and ultimately a convolutional neural network.\n",
        "The ultimate goal is to study how various learning-rate tuning methods behave on these various architectures. The optimization methods studied are grid_search, radom_search, baeyian optimization, neuralnetwork tuning, and an evolutionary method.\n",
        "To study the various characteristics of the optimizers we will evaluate the convergence speed (how long it takes to find a learning rate that performs at a certain precision) and the maximum (average) precision achieved. Finally, we will compare our results to our expectations (theory)."
      ]
    },
    {
      "cell_type": "markdown",
      "metadata": {
        "id": "m2VUugmptJf7"
      },
      "source": [
        "## 1) Data import"
      ]
    },
    {
      "cell_type": "code",
      "metadata": {
        "id": "fJOFYzA8tJf7"
      },
      "source": [
        "train_input, train_target, train_classes, test_input, test_target, test_classes = generate_pair_sets(1000)"
      ],
      "execution_count": null,
      "outputs": []
    },
    {
      "cell_type": "markdown",
      "metadata": {
        "id": "eOAI0NO0tJf9"
      },
      "source": [
        "## 2) Model creation"
      ]
    },
    {
      "cell_type": "markdown",
      "metadata": {
        "id": "8dDiLAPktJf-"
      },
      "source": [
        "# First model: NN using Auxiliary loss to help the learning. \n",
        "At an intermediary layer we try to classify the immages\n",
        "In the final layer we try to Understand which one contains a bigger digit\n"
      ]
    },
    {
      "cell_type": "code",
      "metadata": {
        "id": "XwvXkWzKtJgA"
      },
      "source": [
        "from torch import nn\n",
        "from torch.nn import functional as F\n",
        "from torch import optim"
      ],
      "execution_count": 2,
      "outputs": []
    },
    {
      "cell_type": "code",
      "metadata": {
        "id": "fZEvjRabtJgB"
      },
      "source": [
        "import cmath\n",
        "\n",
        "import matplotlib.pyplot as plt\n",
        "\n",
        "\n",
        "class ModelResult:\n",
        "    \"\"\" Encapsulates the the different error rates and losses of a model \"\"\"\n",
        "\n",
        "    def __init__(self, result_id, train_err_rates, test_err_rates, losses):\n",
        "        self.id = result_id\n",
        "        self.train_err_rates = train_err_rates\n",
        "        self.test_err_rates = test_err_rates\n",
        "        self.losses = losses\n",
        "\n",
        "\n",
        "# --------------------------------------------------------------------------------#\n",
        "\n",
        "colors = ['tab:red', 'tab:green', 'tab:blue', 'tab:orange', 'tab:purple',\n",
        "          'tab:yellow', 'tab:black', 'tab:skyblue', 'tab:chocolate', 'tab:lawngreen']\n",
        "\n",
        "\n",
        "def plot_models_results_comparison(model_results, nb_rounds, means_only=False):\n",
        "    \"\"\" Plot all the models performances statistics (images are saved in \"results\" folder \"\"\"\n",
        "    if not means_only:\n",
        "        plot_train_err_rates(model_results, nb_rounds)\n",
        "        plot_test_err_rates(model_results, nb_rounds)\n",
        "\n",
        "    plot_train_err_rates_means(model_results)\n",
        "    plot_test_err_rates_means(model_results)\n",
        "    plot_losses(model_results)\n",
        "\n",
        "\n",
        "def plot_model_result(model_result, nb_rounds):\n",
        "    \"\"\" Plot the statistics for a single model (images are saved in \"results\" folder) \"\"\"\n",
        "\n",
        "    plot_single_model_train_test_err_rates_comparison(model_result, nb_rounds)\n",
        "    plot_losses([model_result])\n",
        "\n",
        "\n",
        "# --------------------------------------- Local Use ---------------------------------------#\n",
        "\n",
        "def plot_train_err_rates(model_results, nb_rounds):\n",
        "    \"\"\" Plot the train error rates of the models in a single chart \"\"\"\n",
        "\n",
        "    fig = plt.figure()\n",
        "    ax = fig.add_subplot(1, 1, 1)\n",
        "\n",
        "    ax.set_xlabel('Round', labelpad=nb_rounds)\n",
        "    ax.set_ylabel('Train error rate')\n",
        "\n",
        "    max_err_rate = max([max(mod_res.train_err_rates) for mod_res in model_results])\n",
        "    ax.set_ylim([0, max_err_rate + 0.05 * max_err_rate])\n",
        "\n",
        "    for i, mod_res in enumerate(model_results):\n",
        "        ax.plot(mod_res.train_err_rates, color=colors[i % len(colors)], label=mod_res.id)\n",
        "    ax.legend()\n",
        "\n",
        "    #plt.savefig(\"results/train_err\" + concat_models_names(model_results) + \".png\")\n",
        "    plt.show()\n",
        "\n",
        "\n",
        "def plot_train_err_rates_means(model_results):\n",
        "    \"\"\" Plot the train error rates of the models in a single chart \"\"\"\n",
        "\n",
        "    fig = plt.figure()\n",
        "    ax = fig.add_subplot(1, 1, 1)\n",
        "\n",
        "    ax.set_ylabel('Train error rate')\n",
        "\n",
        "    names = [mod_res.id for mod_res in model_results]\n",
        "    means = [mean(mod_res.train_err_rates) for mod_res in model_results]\n",
        "    stds = [std(mod_res.train_err_rates) for mod_res in model_results]\n",
        "\n",
        "    ax.bar(names, means, color=colors[0:len(model_results)], yerr=stds, capsize=4)\n",
        "\n",
        "    #plt.savefig(\"results/train_err_avg\" + concat_models_names(model_results) + \".png\")\n",
        "    plt.show()\n",
        "\n",
        "\n",
        "def plot_test_err_rates(model_results, nb_rounds):\n",
        "    \"\"\" Plot the test error rates of the models in a single chart \"\"\"\n",
        "\n",
        "    fig = plt.figure()\n",
        "    ax = fig.add_subplot(1, 1, 1)\n",
        "\n",
        "    ax.set_xlabel('Round', labelpad=nb_rounds)\n",
        "    ax.set_ylabel('Test error rate')\n",
        "\n",
        "    max_err_rate = max([max(mod_res.test_err_rates) for mod_res in model_results])\n",
        "    ax.set_ylim([0, max_err_rate + 0.05 * max_err_rate])\n",
        "\n",
        "    for i, mod_res in enumerate(model_results):\n",
        "        ax.plot(mod_res.test_err_rates, color=colors[i % len(colors)], label=mod_res.id)\n",
        "    ax.legend()\n",
        "\n",
        "   # plt.savefig(\"results/test_err\" + concat_models_names(model_results))\n",
        "\n",
        "\n",
        "def plot_test_err_rates_means(model_results):\n",
        "    \"\"\" Plot the train error rates of the models in a single chart \"\"\"\n",
        "\n",
        "    fig = plt.figure()\n",
        "    ax = fig.add_subplot(1, 1, 1)\n",
        "\n",
        "    ax.set_ylabel('Test error rate')\n",
        "\n",
        "    names = [mod_res.id for mod_res in model_results]\n",
        "    means = [mean(mod_res.test_err_rates) for mod_res in model_results]\n",
        "    stds = [std(mod_res.test_err_rates) for mod_res in model_results]\n",
        "\n",
        "    for k in zip(means, stds):\n",
        "        print(k[0], \" \", k[1])\n",
        "    print()\n",
        "\n",
        "    ax.bar(names, means, color=colors[0:len(model_results)], yerr=stds, capsize=4)\n",
        "\n",
        "    #plt.savefig(\"results/test_err_avg\" + concat_models_names(model_results) + \".png\")\n",
        "    plt.show()\n",
        "\n",
        "\n",
        "def plot_single_model_train_test_err_rates_comparison(model_result, nb_rounds):\n",
        "    \"\"\" Plot the test and train error rates for a single model \"\"\"\n",
        "\n",
        "    fig = plt.figure()\n",
        "    ax = fig.add_subplot(1, 1, 1)\n",
        "\n",
        "    ax.set_xlabel('Round', labelpad=nb_rounds)\n",
        "    ax.set_ylabel('Error rate')\n",
        "\n",
        "    max_err_rate = max(max(model_result.train_err_rates), max(model_result.test_err_rates))\n",
        "    ax.set_ylim([0, max_err_rate + 0.05 * max_err_rate])\n",
        "\n",
        "    ax.plot(model_result.train_err_rates, color=colors[0], label=\"train\")\n",
        "    ax.plot(model_result.test_err_rates, color=colors[1], label=\"test\")\n",
        "    ax.legend()\n",
        "\n",
        "    #plt.savefig(\"results/train_test_err\" + model_result.id)\n",
        "    plt.show()\n",
        "\n",
        "\n",
        "def plot_losses(model_results):\n",
        "    \"\"\" Plot the loss evolution \"\"\"\n",
        "\n",
        "    fig = plt.figure()\n",
        "    ax = fig.add_subplot(1, 1, 1)\n",
        "\n",
        "    ax.set_xlabel('Iteration')\n",
        "    ax.set_ylabel('Loss')\n",
        "\n",
        "    max_err_rate = max([max(mod_res.losses) for mod_res in model_results])\n",
        "    ax.set_ylim([0, max_err_rate + 0.05 * max_err_rate])\n",
        "\n",
        "    for i, mod_res in enumerate(model_results):\n",
        "        ax.plot(mod_res.losses, color=colors[i % len(colors)], label=mod_res.id)\n",
        "    ax.legend()\n",
        "\n",
        "    #plt.savefig(\"results/losses_evolution\" + concat_models_names(model_results))\n",
        "    plt.show()\n",
        "\n",
        "\n",
        "def concat_models_names(model_results):\n",
        "    name = \"\"\n",
        "    for mod_res in model_results:\n",
        "        name += \"_\" + mod_res.id\n",
        "    return name\n",
        "\n",
        "\n",
        "def mean(values):\n",
        "    return sum(values) / len(values)\n",
        "\n",
        "\n",
        "def std(values):\n",
        "    if len(values) == 0:\n",
        "        return 0\n",
        "\n",
        "    mean_ = mean(values)\n",
        "    variance = sum([(v - mean_) ** 2 for v in values]) / (len(values) - 1)\n",
        "    return cmath.sqrt(variance).real"
      ],
      "execution_count": 3,
      "outputs": []
    },
    {
      "cell_type": "code",
      "metadata": {
        "id": "ja15DNvPtJgD"
      },
      "source": [
        "from abc import abstractmethod\n",
        "\n",
        "import torch\n",
        "from torch import nn\n",
        "from torch.nn import functional as F\n",
        "from torch import optim\n",
        "\n",
        "\n",
        "class Model(nn.Module):\n",
        "    \"\"\" A deep network with the added capability to train itself and provide\n",
        "        statistics about the training and testing performances.\n",
        "\n",
        "        Attributes\n",
        "        ----------\n",
        "        sets_size : int\n",
        "            the size of both the training and the testing sets\n",
        "\n",
        "        useAuxiliary : Boolean\n",
        "            determines if the model uses auxiliary loss or not\n",
        "\n",
        "        f_gen_data : function\n",
        "            a function taking a an int and generating the training and testing data\n",
        "\n",
        "        epochs, batch_size, lr, l2 : hyper-parameters\n",
        "\n",
        "        Methods\n",
        "        -------\n",
        "        train_and_test_round() :\n",
        "            generates new data, train itself and compute performance statistics.\n",
        "\n",
        "        train_and_test_rounds(nb_rounds) :\n",
        "            does nb_rounds iteration of train_and_test_round\n",
        "    \"\"\"\n",
        "\n",
        "    sets_size = 1000\n",
        "\n",
        "    def __init__(self, f_gen_data, nb_epochs=25, mini_batch_size=100, learning_rate=5e-3, l2_rate=0):\n",
        "        super(Model, self).__init__()\n",
        "        self.generate_data = f_gen_data\n",
        "        self.epochs = nb_epochs\n",
        "        self.batch_size = mini_batch_size\n",
        "        self.lr = learning_rate\n",
        "        self.l2 = l2_rate\n",
        "\n",
        "    @abstractmethod\n",
        "    def reset(self):\n",
        "        \"\"\" Reinitialize the weights of the model, need to be redefined\"\"\"\n",
        "\n"
      ],
      "execution_count": 4,
      "outputs": []
    },
    {
      "cell_type": "code",
      "metadata": {
        "id": "FXvp0UcrtJgD"
      },
      "source": [
        "class Auxiliary(Model):\n",
        "    sets_size = 1000\n",
        "\n",
        "    def __init__(self, f_gen_data, nb_epochs=25, mini_batch_size=100, learning_rate=1e-3,\n",
        "                 l2_rate=0.1):\n",
        "        super().__init__(f_gen_data, nb_epochs, mini_batch_size, learning_rate, l2_rate)\n",
        "\n",
        "\n",
        "        # layer 1\n",
        "        self.fc1 = nn.Linear(196, 160)\n",
        "        self.bn1 = nn.BatchNorm1d(160)\n",
        "        self.drop1 = nn.Dropout(0.5)\n",
        "\n",
        "        # layer 2\n",
        "        self.fc2 = nn.Linear(80, 100)\n",
        "        self.bn2 = nn.BatchNorm1d(100)\n",
        "        self.drop2 = nn.Dropout(0.5)\n",
        "\n",
        "        # layer 3 : digit classification\n",
        "        self.fc3 = nn.Linear(50, 10)\n",
        "\n",
        "        # layer 4 : digit comparison\n",
        "        self.fc4 = nn.Linear(20, 2)\n",
        "        #print(sum(p.numel() for p in self.parameters() if p.requires_grad))\n",
        "\n",
        "    def reset(self,learningrate = None):\n",
        "        if learningrate == None:\n",
        "            self.__init__(self.generate_data, self.epochs, self.batch_size, self.lr, self.l2)\n",
        "        else:\n",
        "            self.__init__(self.generate_data, self.epochs, self.batch_size, learningrate, self.l2)\n",
        "\n",
        "    def train_and_test(self):\n",
        "#             The model runs a complete \"round\" consisting of the following steps :\n",
        "#             1. Generate new train and test data\n",
        "#             2. Trains with the new generated data\n",
        "#             3. Compute the train and test error rates and other performance statistics\n",
        "        \n",
        "\n",
        "        train_input, train_target, train_classes, \\\n",
        "            test_input, test_target, test_classes = self.generate_data(self.sets_size)\n",
        "\n",
        "        # one channel with the original channel's images in alternation\n",
        "        train_input = train_input.view(-1, 1, 14, 14)\n",
        "        train_classes = train_classes.view(-1)\n",
        "        test_input = test_input.view(-1, 1, 14, 14)\n",
        "        test_classes = test_classes.view(-1)\n",
        "\n",
        "        losses = self._train(train_input, train_target, train_classes)\n",
        "        train_err_rate = self._compute_errors(train_input, train_target)\n",
        "        test_err_rate = self._compute_errors(test_input, test_target)\n",
        "\n",
        "        return train_err_rate, test_err_rate, losses\n",
        "\n",
        "    def _train(self, train_input, train_target, train_classes):\n",
        "        #Train the model \n",
        "        criterion = nn.CrossEntropyLoss()\n",
        "        optimizer = optim.Adam(self.parameters(), self.lr)\n",
        "\n",
        "        losses = []\n",
        "\n",
        "        for e in range(self.epochs):\n",
        "            for b in range(0, train_input.size(0), self.batch_size):\n",
        "\n",
        "                # if use auxiliary loss, add both digit classification and comparison loss\n",
        "                \n",
        "                digit_class, final_class = self(train_input.narrow(0, b, self.batch_size))\n",
        "                loss = \\\n",
        "                    criterion(\n",
        "                        # loss for digit classification\n",
        "                        digit_class,\n",
        "                        train_classes.narrow(0, b, self.batch_size)\n",
        "                    ) + criterion(\n",
        "                        # loss for comparison\n",
        "                        final_class,\n",
        "                        # need to divide by two, because one iteration in the network does\n",
        "                        # two times less comparisons (single channel)\n",
        "                        train_target.narrow(0, b // 2, self.batch_size // 2)\n",
        "                    )\n",
        "\n",
        "\n",
        "                # L2 penalty\n",
        "                for p in self.parameters():\n",
        "                    loss += self.l2 * p.pow(2).sum()\n",
        "\n",
        "                self.zero_grad()\n",
        "                loss.backward()\n",
        "                optimizer.step()\n",
        "\n",
        "                losses.append(loss.data.item())\n",
        "\n",
        "        return losses\n",
        "\n",
        "    # --- Private methods --- #\n",
        "\n",
        "    def _compute_errors(self, data_input, data_target):\n",
        "        #Computes the number of errors produced by the model \n",
        "        nb_data_errors = 0\n",
        "\n",
        "        for b in range(0, data_input.size(0), self.batch_size):\n",
        "\n",
        "            output = self(data_input.narrow(0, b, self.batch_size))\n",
        "\n",
        "\n",
        "            output = output[1]\n",
        "\n",
        "            _, predicted_classes = torch.max(output, 1)\n",
        "\n",
        "            target_b = b // 2\n",
        "            target_batch_size = self.batch_size // 2\n",
        "\n",
        "            for k in range(target_batch_size):\n",
        "                if data_target[target_b + k] != predicted_classes[k]:\n",
        "                    nb_data_errors = nb_data_errors + 1\n",
        "\n",
        "        return 100 * nb_data_errors / data_input.size(0)\n",
        "    \n",
        "\n",
        "    def forward(self, x):\n",
        "        n = x.size()[0]\n",
        "\n",
        "        # layer 1\n",
        "        x = F.relu(self.bn1(self.fc1(x.view(n, -1))))\n",
        "        x = F.max_pool1d(x.view(n, 1, -1), kernel_size=2)\n",
        "        x = self.drop1(x)\n",
        "\n",
        "        # layer 2\n",
        "        x = F.relu(self.bn2(self.fc2(x.view(n, -1))))\n",
        "        x = F.max_pool1d(x.view(n, 1, -1), kernel_size=2)\n",
        "        x = self.drop2(x)\n",
        "\n",
        "        # layer 3 : digit classification\n",
        "        digit_class = self.fc3(x.view(n, -1))\n",
        "        x = F.relu(digit_class)\n",
        "\n",
        "        # layer 4 : digit comparison\n",
        "        final_class = self.fc4(x.view(x.size()[0] // 2, -1))\n",
        "        return digit_class, final_class"
      ],
      "execution_count": 5,
      "outputs": []
    },
    {
      "cell_type": "code",
      "metadata": {
        "id": "Lq0XWQwVtJgF"
      },
      "source": [
        "def train_and_test_rounds(model, nb_rounds, test_id,learningrate ):\n",
        "#         Complete nb_rounds iterations of train_and_test and returns the train and test error\n",
        "#         rates and other performance statistics in an ModelResult object\n",
        "\n",
        "#         Parameter\n",
        "#         ---------\n",
        "#         nb_rounds : int\n",
        "#             the number of round\n",
        "\n",
        "#         Returns\n",
        "#         -------\n",
        "#         a ModelResult object containing the overall rounds performance statistics\n",
        "    \n",
        "\n",
        "    trains_err_rates = []\n",
        "    tests_err_rates = []\n",
        "    losses = []\n",
        "    \n",
        "    for i in range(nb_rounds):\n",
        "        model.reset(learningrate)\n",
        "        model.train()\n",
        "        for layer in model.children():\n",
        "          if hasattr(layer,'reset_parameters'):\n",
        "            layer.reset_parameters()\n",
        "        #print(model._compute_errors(test_input, test_target) )\n",
        "        trains_err_rate, tests_err_rate, losses_ = model.train_and_test()\n",
        "        trains_err_rates.append(trains_err_rate)\n",
        "        tests_err_rates.append(tests_err_rate)\n",
        "        losses.append(losses_)\n",
        "\n",
        "    loss_it = len(losses[0])\n",
        "    loss_avg = []\n",
        "    for i in range(loss_it):\n",
        "        loss_avg.append(mean(list(map(lambda ls: ls[i], losses))))\n",
        "    # print('trains_err_rates: ', trains_err_rates)\n",
        "    # print('tests_err_rates: ', tests_err_rates)\n",
        "    # print('loss_avg: ', loss_avg)\n",
        "    return ModelResult(test_id, trains_err_rates, tests_err_rates, loss_avg)\n",
        "\n",
        "\n",
        "# def main():\n",
        "#     number_rounds = 10\n",
        "#     model = \"Auxiliary\"\n",
        "#     model2 = Auxiliary(generate_pair_sets)\n",
        "#     mRes2 = train_and_test_rounds(model2, number_rounds, \"Auxiliary\")\n",
        "#     #plot_model_result(mRes2, number_rounds)\n",
        "    \n",
        "\n",
        "# if __name__ == '__main__':\n",
        "#     main()"
      ],
      "execution_count": 6,
      "outputs": []
    },
    {
      "cell_type": "markdown",
      "metadata": {
        "id": "DOhmEVh8tJgG"
      },
      "source": [
        "## 3) Learning rate optimization techniques"
      ]
    },
    {
      "cell_type": "code",
      "metadata": {
        "id": "RpqkaotatJgG"
      },
      "source": [
        "# imports\n",
        "\n",
        "from keras.datasets import mnist\n",
        "from keras.optimizers import SGD\n",
        "from matplotlib import pyplot\n",
        "from tensorflow.keras import Sequential\n",
        "from tensorflow.keras.layers import Dense\n",
        "from numpy.random import seed\n",
        "import tensorflow \n",
        "import time\n",
        "from scipy import optimize\n",
        "import random\n"
      ],
      "execution_count": 7,
      "outputs": []
    },
    {
      "cell_type": "markdown",
      "metadata": {
        "id": "SGvhg2jZtJgG"
      },
      "source": [
        "# First method: grid search sampling N points of an interval (rangemin,rangemax) then choosing the learning rate that minimize the loss."
      ]
    },
    {
      "cell_type": "code",
      "metadata": {
        "id": "O2szcH9TtJgH"
      },
      "source": [
        "def return_accuracy(learningrate):\n",
        "    number_rounds = 1\n",
        "    model = \"Auxiliary\"\n",
        "    model2 = Auxiliary(generate_pair_sets)\n",
        "    mRes2 = train_and_test_rounds(model2, number_rounds, \"Auxiliary\",learningrate)\n",
        "    print(\"here\",sum(mRes2.test_err_rates)/len(mRes2.test_err_rates))\n",
        "    return (100 - sum(mRes2.test_err_rates)/len(mRes2.test_err_rates))"
      ],
      "execution_count": 8,
      "outputs": []
    },
    {
      "cell_type": "code",
      "metadata": {
        "colab": {
          "base_uri": "https://localhost:8080/",
          "height": 1000,
          "referenced_widgets": [
            "911d4fb8ec114d719c01933ca5e3d404",
            "bb6d1290dff34faeb1142c56d83b4170",
            "f672134f30d94c4283da6c08a78ab1e8",
            "de53970ab72e44b0a63127e30f304c6d",
            "b6579e091e404fa59fbdb04ba2188c26",
            "5add68508a96466aa0f9428bc12fd652",
            "08cfbd644da04b3d9aee485d9eb4e850",
            "72b145120efc4346b61b4842bb9d10f7",
            "a04123ec66de4d7686def3a77762c999",
            "a821a675631d4b97ac3b2f6b70f5acbb",
            "50be59827f01443bb0adb2121bee74bf",
            "b9185eb7f9d64410bfeb4350616c8fd0",
            "9f9d9917a4d640dbbe05a00727205046",
            "d40fd4e76a1e4a79b808d33e5d96d3e2",
            "1758969b85f848718a139366ed6ecd77",
            "787abd270b0d421ab770e35ce9ebbf2c",
            "68799e0f48074cb7bd023cb2ebea9107",
            "9dbc75e943224ee9b03868b19b686283",
            "c6f622b4d13046338755402acdb435e5",
            "b66bb05c36724781b691f1d0da3569c4",
            "21e60f01192a44cfb919fb9c59a11229",
            "06bd01687b254ce0b6b82af0fc90bb6f",
            "2d3fa49c494e48bbb2ee4e193bbd58cc",
            "e36793b8ccc14ee7a574484fd7a3531e",
            "fca81a9c830445eb8b9198ee0b35fbee",
            "379924ff756248a68878753e601af8fe",
            "01fc0f755d4b4fbc9bdf85a7a883a447",
            "e52eb1625de54dc6966017b55e04aefa",
            "db212e3d5f074083a11fc66bef797e0d",
            "55a2ee9639384943ae387fd8b8fdb585",
            "5912d7347b5c481fac4ac796684429e4",
            "494287481a6b4702928ed4245261bd66"
          ]
        },
        "id": "oppUs2MVtJgH",
        "outputId": "05b4224b-ec9e-491f-f176-643380c49696"
      },
      "source": [
        "#admitting that the range is the somehow known good learnig rate range (0.1-1)\n",
        "\n",
        "def Grid_search(ranges, function, Npoints):\n",
        "    Npoints +=1\n",
        "    convergencex = []\n",
        "    convergencey = []\n",
        "    x_vals = []\n",
        "    maxaccuracy = 0\n",
        "    minval = 0\n",
        "    for i in range(Npoints):\n",
        "        x_vals.append(ranges[0]+(ranges[1]-ranges[0])*i/(Npoints-1))\n",
        "    number  = 0\n",
        "    for value in x_vals:\n",
        "        number += 1\n",
        "        tmp = function(value)\n",
        "        convergencex.append(value)\n",
        "        convergencey.append(tmp)\n",
        "        if (tmp > maxaccuracy):\n",
        "            maxaccuracy = tmp\n",
        "            minval = value\n",
        "    #plot convergence\n",
        "    fig = plt.figure()\n",
        "    ax = fig.add_subplot(1, 1, 1)\n",
        "    ax.set_xlabel('learning rate', labelpad=Npoints)\n",
        "    ax.set_ylabel('accuracy on the test set' )\n",
        "    convergencex.pop(0)\n",
        "    convergencey.pop(0)\n",
        "    ax.plot(convergencex,convergencey)\n",
        "    return (maxaccuracy,minval)\n",
        "\n",
        "\n",
        "rangemaxmin = (0.0001,0.003)\n",
        "start = time.time()\n",
        "print(Grid_search(rangemaxmin,return_accuracy,10))\n",
        "end = time.time()\n",
        "print('total computation time = ', (end-start) )"
      ],
      "execution_count": 9,
      "outputs": [
        {
          "output_type": "stream",
          "text": [
            "Downloading http://yann.lecun.com/exdb/mnist/train-images-idx3-ubyte.gz\n",
            "Failed to download (trying next):\n",
            "HTTP Error 503: Service Unavailable\n",
            "\n",
            "Downloading https://ossci-datasets.s3.amazonaws.com/mnist/train-images-idx3-ubyte.gz\n",
            "Downloading https://ossci-datasets.s3.amazonaws.com/mnist/train-images-idx3-ubyte.gz to ./data/mnist/MNIST/raw/train-images-idx3-ubyte.gz\n"
          ],
          "name": "stdout"
        },
        {
          "output_type": "display_data",
          "data": {
            "application/vnd.jupyter.widget-view+json": {
              "model_id": "911d4fb8ec114d719c01933ca5e3d404",
              "version_minor": 0,
              "version_major": 2
            },
            "text/plain": [
              "HBox(children=(FloatProgress(value=0.0, max=9912422.0), HTML(value='')))"
            ]
          },
          "metadata": {
            "tags": []
          }
        },
        {
          "output_type": "stream",
          "text": [
            "\n",
            "Extracting ./data/mnist/MNIST/raw/train-images-idx3-ubyte.gz to ./data/mnist/MNIST/raw\n",
            "\n",
            "Downloading http://yann.lecun.com/exdb/mnist/train-labels-idx1-ubyte.gz\n",
            "Failed to download (trying next):\n",
            "HTTP Error 503: Service Unavailable\n",
            "\n",
            "Downloading https://ossci-datasets.s3.amazonaws.com/mnist/train-labels-idx1-ubyte.gz\n",
            "Downloading https://ossci-datasets.s3.amazonaws.com/mnist/train-labels-idx1-ubyte.gz to ./data/mnist/MNIST/raw/train-labels-idx1-ubyte.gz\n"
          ],
          "name": "stdout"
        },
        {
          "output_type": "display_data",
          "data": {
            "application/vnd.jupyter.widget-view+json": {
              "model_id": "a04123ec66de4d7686def3a77762c999",
              "version_minor": 0,
              "version_major": 2
            },
            "text/plain": [
              "HBox(children=(FloatProgress(value=0.0, max=28881.0), HTML(value='')))"
            ]
          },
          "metadata": {
            "tags": []
          }
        },
        {
          "output_type": "stream",
          "text": [
            "\n",
            "Extracting ./data/mnist/MNIST/raw/train-labels-idx1-ubyte.gz to ./data/mnist/MNIST/raw\n",
            "\n",
            "Downloading http://yann.lecun.com/exdb/mnist/t10k-images-idx3-ubyte.gz\n",
            "Failed to download (trying next):\n",
            "HTTP Error 503: Service Unavailable\n",
            "\n",
            "Downloading https://ossci-datasets.s3.amazonaws.com/mnist/t10k-images-idx3-ubyte.gz\n",
            "Downloading https://ossci-datasets.s3.amazonaws.com/mnist/t10k-images-idx3-ubyte.gz to ./data/mnist/MNIST/raw/t10k-images-idx3-ubyte.gz\n"
          ],
          "name": "stdout"
        },
        {
          "output_type": "display_data",
          "data": {
            "application/vnd.jupyter.widget-view+json": {
              "model_id": "68799e0f48074cb7bd023cb2ebea9107",
              "version_minor": 0,
              "version_major": 2
            },
            "text/plain": [
              "HBox(children=(FloatProgress(value=0.0, max=1648877.0), HTML(value='')))"
            ]
          },
          "metadata": {
            "tags": []
          }
        },
        {
          "output_type": "stream",
          "text": [
            "\n",
            "Extracting ./data/mnist/MNIST/raw/t10k-images-idx3-ubyte.gz to ./data/mnist/MNIST/raw\n",
            "\n",
            "Downloading http://yann.lecun.com/exdb/mnist/t10k-labels-idx1-ubyte.gz\n",
            "Failed to download (trying next):\n",
            "HTTP Error 503: Service Unavailable\n",
            "\n",
            "Downloading https://ossci-datasets.s3.amazonaws.com/mnist/t10k-labels-idx1-ubyte.gz\n",
            "Downloading https://ossci-datasets.s3.amazonaws.com/mnist/t10k-labels-idx1-ubyte.gz to ./data/mnist/MNIST/raw/t10k-labels-idx1-ubyte.gz\n"
          ],
          "name": "stdout"
        },
        {
          "output_type": "display_data",
          "data": {
            "application/vnd.jupyter.widget-view+json": {
              "model_id": "fca81a9c830445eb8b9198ee0b35fbee",
              "version_minor": 0,
              "version_major": 2
            },
            "text/plain": [
              "HBox(children=(FloatProgress(value=0.0, max=4542.0), HTML(value='')))"
            ]
          },
          "metadata": {
            "tags": []
          }
        },
        {
          "output_type": "stream",
          "text": [
            "\n",
            "Extracting ./data/mnist/MNIST/raw/t10k-labels-idx1-ubyte.gz to ./data/mnist/MNIST/raw\n",
            "\n",
            "Processing...\n",
            "Done!\n"
          ],
          "name": "stdout"
        },
        {
          "output_type": "stream",
          "text": [
            "/usr/local/lib/python3.7/dist-packages/torchvision/datasets/mnist.py:502: UserWarning: The given NumPy array is not writeable, and PyTorch does not support non-writeable tensors. This means you can write to the underlying (supposedly non-writeable) NumPy array using the tensor. You may want to copy the array to protect its data or make it writeable before converting it to a tensor. This type of warning will be suppressed for the rest of this program. (Triggered internally at  /pytorch/torch/csrc/utils/tensor_numpy.cpp:143.)\n",
            "  return torch.from_numpy(parsed.astype(m[2], copy=False)).view(*s)\n"
          ],
          "name": "stderr"
        },
        {
          "output_type": "stream",
          "text": [
            "here 21.7\n",
            "here 10.0\n",
            "here 7.9\n",
            "here 8.8\n",
            "here 9.75\n",
            "here 8.75\n",
            "here 9.0\n",
            "here 9.6\n",
            "here 7.8\n",
            "here 9.45\n",
            "here 10.15\n",
            "(92.2, 0.00242)\n",
            "total computation time =  49.29277849197388\n"
          ],
          "name": "stdout"
        },
        {
          "output_type": "display_data",
          "data": {
            "image/png": "[encoded data removed]",
            "text/plain": [
              "<Figure size 432x288 with 1 Axes>"
            ]
          },
          "metadata": {
            "tags": [],
            "needs_background": "light"
          }
        }
      ]
    },
    {
      "cell_type": "markdown",
      "metadata": {
        "id": "wan8guDXtJgI"
      },
      "source": [
        "# Second method: Random search sampling N points of an interval (rangemin,rangemax) then choosing the learning rate that minimize the loss."
      ]
    },
    {
      "cell_type": "code",
      "metadata": {
        "colab": {
          "base_uri": "https://localhost:8080/",
          "height": 523
        },
        "id": "9aiNqz8ltJgI",
        "outputId": "51fd5ddb-faa4-4ed1-ebdb-c9290d9f0c7a"
      },
      "source": [
        "#admitting that the range is the somehow known good learnig rate range (0.1-1)\n",
        "#basically a grid of random points\n",
        "def Grid_search_random(ranges, function, Npoints):\n",
        "    convergencex = []\n",
        "    convergencey = []\n",
        "    x_vals = []\n",
        "    maxaccuracy = 0\n",
        "    minval = 0\n",
        "    for i in range(Npoints):\n",
        "        x_vals.append(ranges[0]+(ranges[1])*(random.uniform(ranges[0],ranges[1])/ranges[1]))\n",
        "\n",
        "\n",
        "    number  = 0\n",
        "    for value in x_vals:\n",
        "        number += 1\n",
        "        tmp = function(value)\n",
        "        convergencex.append(value)\n",
        "        convergencey.append(tmp)\n",
        "        if (tmp > maxaccuracy):\n",
        "            maxaccuracy = tmp\n",
        "            minval = value\n",
        "    #plot convergence\n",
        "    fig = plt.figure()\n",
        "    ax = fig.add_subplot(1, 1, 1)\n",
        "    zipped_lists = zip(convergencex, convergencey)\n",
        "    sorted_zipped_lists = sorted(zipped_lists)\n",
        "    sorted_listy = [element for _, element in sorted_zipped_lists]\n",
        "    ax.set_xlabel('iteration', labelpad=Npoints)\n",
        "    ax.set_ylabel('test error rate')\n",
        "    print('x = lr = ',sorted(convergencex))\n",
        "    print('y = error = ',sorted_listy)\n",
        "    ax.plot(sorted(convergencex),sorted_listy)\n",
        "    return (maxaccuracy,minval)\n",
        "\n",
        "\n",
        "rangemaxmin = (0.000001,0.4)\n",
        "\n",
        "start = time.time()\n",
        "print(Grid_search_random(rangemaxmin,return_accuracy,10))\n",
        "end = time.time()\n",
        "print('total computation time = ', (end-start) )"
      ],
      "execution_count": 10,
      "outputs": [
        {
          "output_type": "stream",
          "text": [
            "here 22.4\n",
            "here 29.6\n",
            "here 8.85\n",
            "here 23.5\n",
            "here 21.8\n",
            "here 22.45\n",
            "here 21.55\n",
            "here 23.05\n",
            "here 22.4\n",
            "here 21.4\n",
            "x = lr =  [0.0012305829710922715, 0.11538323425993233, 0.1487760537843668, 0.15703255072717603, 0.20065922778456202, 0.21630241938606312, 0.298293887819877, 0.3390736470200846, 0.34352317755226663, 0.3767305417467151]\n",
            "y = error =  [91.15, 78.2, 76.95, 77.6, 76.5, 78.6, 77.55, 70.4, 77.6, 78.45]\n",
            "(91.15, 0.0012305829710922715)\n",
            "total computation time =  37.43556547164917\n"
          ],
          "name": "stdout"
        },
        {
          "output_type": "display_data",
          "data": {
            "image/png": "[encoded data removed]",
            "text/plain": [
              "<Figure size 432x288 with 1 Axes>"
            ]
          },
          "metadata": {
            "tags": [],
            "needs_background": "light"
          }
        }
      ]
    },
    {
      "cell_type": "code",
      "metadata": {
        "id": "xgp8Pg1ktJgI",
        "colab": {
          "base_uri": "https://localhost:8080/",
          "height": 1000
        },
        "outputId": "fb2c6d7e-41c2-4163-e695-15f38ea71aef"
      },
      "source": [
        "def PlotconvegenceinN(ranges,Nmax):\n",
        "  Xls = []\n",
        "  Yls = []\n",
        "  acc = 0\n",
        "  \n",
        "  for i in range(Nmax):\n",
        "    acc = Grid_search(ranges, return_accuracy, (i+1))[0]\n",
        "    Xls.append(i+1)\n",
        "    Yls.append(acc)\n",
        "  fig = plt.figure()\n",
        "  ax = fig.add_subplot(1, 1, 1)\n",
        "  ax.set_xlabel('Number of function evaluations')\n",
        "  ax.set_ylabel('Max accuracy reached')\n",
        "  ax.plot(Xls,Yls)\n",
        "  maxacc = max(Yls)\n",
        "  print(\"optimal accuracy:\",maxacc,'optimal learning rate: ',Xls[Yls.index(maxacc)] )\n",
        "ranges = (0.0001,0.003)\n",
        "PlotconvegenceinN(ranges,10)\n"
      ],
      "execution_count": 13,
      "outputs": [
        {
          "output_type": "stream",
          "text": [
            "here 21.65\n",
            "here 9.45\n",
            "here 18.35\n",
            "here 9.6\n",
            "here 10.3\n",
            "here 21.6\n",
            "here 9.45\n",
            "here 9.8\n",
            "here 9.6\n",
            "here 25.2\n",
            "here 8.95\n",
            "here 9.1\n",
            "here 10.7\n",
            "here 9.85\n",
            "here 18.7\n",
            "here 9.6\n",
            "here 9.4\n",
            "here 9.5\n",
            "here 9.9\n",
            "here 10.95\n",
            "here 15.75\n",
            "here 9.4\n",
            "here 8.7\n",
            "here 8.5\n",
            "here 10.2\n",
            "here 9.35\n",
            "here 10.5\n",
            "here 20.55\n",
            "here 8.75\n",
            "here 8.65\n",
            "here 8.05\n",
            "here 10.2\n",
            "here 8.45\n",
            "here 9.15\n",
            "here 11.35\n",
            "here 19.75\n",
            "here 9.15\n",
            "here 8.2\n",
            "here 8.65\n",
            "here 9.05\n",
            "here 9.8\n",
            "here 8.15\n",
            "here 9.6\n",
            "here 10.65\n",
            "here 20.85\n",
            "here 11.05\n",
            "here 8.85\n",
            "here 8.85\n",
            "here 9.3\n",
            "here 8.75\n",
            "here 9.0\n",
            "here 10.2\n",
            "here 8.95\n",
            "here 10.5\n",
            "here 16.15\n",
            "here 10.45\n",
            "here 9.65\n",
            "here 7.4\n",
            "here 8.8\n",
            "here 9.35\n",
            "here 9.0\n",
            "here 8.35\n",
            "here 10.05\n",
            "here 9.35\n",
            "here 9.9\n",
            "optimal accuracy: 92.6 optimal learning rate:  10\n"
          ],
          "name": "stdout"
        },
        {
          "output_type": "display_data",
          "data": {
            "image/png": "[encoded data removed]",
            "text/plain": [
              "<Figure size 432x288 with 1 Axes>"
            ]
          },
          "metadata": {
            "tags": [],
            "needs_background": "light"
          }
        },
        {
          "output_type": "display_data",
          "data": {
            "image/png": "[encoded data removed]",
            "text/plain": [
              "<Figure size 432x288 with 1 Axes>"
            ]
          },
          "metadata": {
            "tags": [],
            "needs_background": "light"
          }
        },
        {
          "output_type": "display_data",
          "data": {
            "image/png": "[encoded data removed]",
            "text/plain": [
              "<Figure size 432x288 with 1 Axes>"
            ]
          },
          "metadata": {
            "tags": [],
            "needs_background": "light"
          }
        },
        {
          "output_type": "display_data",
          "data": {
            "image/png": "[encoded data removed]",
            "text/plain": [
              "<Figure size 432x288 with 1 Axes>"
            ]
          },
          "metadata": {
            "tags": [],
            "needs_background": "light"
          }
        },
        {
          "output_type": "display_data",
          "data": {
            "image/png": "[encoded data removed]",
            "text/plain": [
              "<Figure size 432x288 with 1 Axes>"
            ]
          },
          "metadata": {
            "tags": [],
            "needs_background": "light"
          }
        },
        {
          "output_type": "display_data",
          "data": {
            "image/png": "[encoded data removed]",
            "text/plain": [
              "<Figure size 432x288 with 1 Axes>"
            ]
          },
          "metadata": {
            "tags": [],
            "needs_background": "light"
          }
        },
        {
          "output_type": "display_data",
          "data": {
            "image/png": "[encoded data removed]",
            "text/plain": [
              "<Figure size 432x288 with 1 Axes>"
            ]
          },
          "metadata": {
            "tags": [],
            "needs_background": "light"
          }
        },
        {
          "output_type": "display_data",
          "data": {
            "image/png": "[encoded data removed]",
            "text/plain": [
              "<Figure size 432x288 with 1 Axes>"
            ]
          },
          "metadata": {
            "tags": [],
            "needs_background": "light"
          }
        },
        {
          "output_type": "display_data",
          "data": {
            "image/png": "[encoded data removed]",
            "text/plain": [
              "<Figure size 432x288 with 1 Axes>"
            ]
          },
          "metadata": {
            "tags": [],
            "needs_background": "light"
          }
        },
        {
          "output_type": "display_data",
          "data": {
            "image/png": "[encoded data removed]",
            "text/plain": [
              "<Figure size 432x288 with 1 Axes>"
            ]
          },
          "metadata": {
            "tags": [],
            "needs_background": "light"
          }
        },
        {
          "output_type": "display_data",
          "data": {
            "image/png": "[encoded data removed]",
            "text/plain": [
              "<Figure size 432x288 with 1 Axes>"
            ]
          },
          "metadata": {
            "tags": [],
            "needs_background": "light"
          }
        }
      ]
    },
    {
      "cell_type": "markdown",
      "metadata": {
        "id": "RCHG2TCVtJgJ"
      },
      "source": [
        "## 4) Different keras optimizers + plotting\n"
      ]
    },
    {
      "cell_type": "code",
      "metadata": {
        "id": "t8TIcOUzFTUn"
      },
      "source": [
        "#to tranform if you want to use the keras optimizer => do a for loop and change the sign of the returned value!\n",
        "default_parameters = [5*1e-4,7.5*1e-3,5*1e-2]\n",
        "def fitness(lr):\n",
        "  lr = float(lr)\n",
        "  return return_accuracy(lr)\n",
        "dim_learning_rate = Real(low=1e-4, high=3e-3, prior='log-uniform',\n",
        "                         name='learning_rate')\n",
        "dimensions = [dim_learning_rate]"
      ],
      "execution_count": 84,
      "outputs": []
    },
    {
      "cell_type": "code",
      "metadata": {
        "colab": {
          "base_uri": "https://localhost:8080/"
        },
        "id": "DGtlmZtCFsz4",
        "outputId": "afd0b67b-a061-47f4-9b1c-151129782991"
      },
      "source": [
        "import numpy as np\n",
        "import time\n",
        "import matplotlib.pyplot as plt\n",
        "import scipy.io\n",
        "import random\n",
        "import tensorflow.keras as keras\n",
        "from tensorflow.keras.models import Sequential\n",
        "from tensorflow.keras.layers import Dense, Conv2D, MaxPooling2D, Dropout, Flatten, BatchNormalization\n",
        "from tensorflow.keras.optimizers import SGD, Adam\n",
        "from tensorflow.keras import regularizers\n",
        "from sklearn.model_selection import train_test_split\n",
        "from sklearn.utils import shuffle\n",
        "import cv2\n",
        "import torch\n",
        "from torch import optim\n",
        "import torch.nn as nn\n",
        "import torch.nn.functional as F\n",
        "!pip install scikit-optimize\n",
        "import skopt\n",
        "from skopt import gbrt_minimize, gp_minimize\n",
        "from skopt.utils import use_named_args\n",
        "from skopt.space import Real, Categorical, Integer  \n",
        "from tensorflow.python.keras import backend as K\n",
        "import scipy.optimize as optimize\n",
        "from scipy.optimize import Bounds"
      ],
      "execution_count": 15,
      "outputs": [
        {
          "output_type": "stream",
          "text": [
            "Collecting scikit-optimize\n",
            "\u001b[?25l  Downloading https://files.pythonhosted.org/packages/8b/03/be33e89f55866065a02e515c5b319304a801a9f1027a9b311a9b1d1f8dc7/scikit_optimize-0.8.1-py2.py3-none-any.whl (101kB)\n",
            "\r\u001b[K     |███▎                            | 10kB 15.2MB/s eta 0:00:01\r\u001b[K     |██████▌                         | 20kB 9.5MB/s eta 0:00:01\r\u001b[K     |█████████▊                      | 30kB 8.1MB/s eta 0:00:01\r\u001b[K     |█████████████                   | 40kB 7.7MB/s eta 0:00:01\r\u001b[K     |████████████████▏               | 51kB 4.0MB/s eta 0:00:01\r\u001b[K     |███████████████████▍            | 61kB 4.3MB/s eta 0:00:01\r\u001b[K     |██████████████████████▊         | 71kB 4.7MB/s eta 0:00:01\r\u001b[K     |██████████████████████████      | 81kB 5.2MB/s eta 0:00:01\r\u001b[K     |█████████████████████████████▏  | 92kB 5.4MB/s eta 0:00:01\r\u001b[K     |████████████████████████████████| 102kB 4.0MB/s \n",
            "\u001b[?25hRequirement already satisfied: scikit-learn>=0.20.0 in /usr/local/lib/python3.7/dist-packages (from scikit-optimize) (0.22.2.post1)\n",
            "Requirement already satisfied: scipy>=0.19.1 in /usr/local/lib/python3.7/dist-packages (from scikit-optimize) (1.4.1)\n",
            "Collecting pyaml>=16.9\n",
            "  Downloading https://files.pythonhosted.org/packages/15/c4/1310a054d33abc318426a956e7d6df0df76a6ddfa9c66f6310274fb75d42/pyaml-20.4.0-py2.py3-none-any.whl\n",
            "Requirement already satisfied: numpy>=1.13.3 in /usr/local/lib/python3.7/dist-packages (from scikit-optimize) (1.19.5)\n",
            "Requirement already satisfied: joblib>=0.11 in /usr/local/lib/python3.7/dist-packages (from scikit-optimize) (1.0.1)\n",
            "Requirement already satisfied: PyYAML in /usr/local/lib/python3.7/dist-packages (from pyaml>=16.9->scikit-optimize) (3.13)\n",
            "Installing collected packages: pyaml, scikit-optimize\n",
            "Successfully installed pyaml-20.4.0 scikit-optimize-0.8.1\n"
          ],
          "name": "stdout"
        }
      ]
    },
    {
      "cell_type": "code",
      "metadata": {
        "colab": {
          "base_uri": "https://localhost:8080/",
          "height": 425
        },
        "id": "0ljb9BeUFLkI",
        "outputId": "b8479631-0866-47e1-e39f-c7fe9e0ab7a0"
      },
      "source": [
        "gp_results = []\n",
        "for default_lr in default_parameters:\n",
        "    print(\"*****************************************************\")\n",
        "    print(\"Running optimizer for LR0: {0:.6}\".format(default_lr))\n",
        "    print(\"*****************************************************\")\n",
        "    gp_result = gp_minimize(func=fitness,\n",
        "                            dimensions=dimensions,\n",
        "                            n_calls=12,\n",
        "                            noise= 0.01,\n",
        "                            n_jobs=-1,\n",
        "                            kappa = 5,\n",
        "                            x0=[default_lr])\n",
        "    gp_results.append(gp_result)"
      ],
      "execution_count": 82,
      "outputs": [
        {
          "output_type": "stream",
          "text": [
            "*****************************************************\n",
            "Running optimizer for LR0: 0.0005\n",
            "*****************************************************\n",
            "here 8.95\n"
          ],
          "name": "stdout"
        },
        {
          "output_type": "error",
          "ename": "ValueError",
          "evalue": "ignored",
          "traceback": [
            "\u001b[0;31m---------------------------------------------------------------------------\u001b[0m",
            "\u001b[0;31mValueError\u001b[0m                                Traceback (most recent call last)",
            "\u001b[0;32m<ipython-input-82-eea048faa654>\u001b[0m in \u001b[0;36m<module>\u001b[0;34m()\u001b[0m\n\u001b[1;32m     10\u001b[0m                             \u001b[0mn_jobs\u001b[0m\u001b[0;34m=\u001b[0m\u001b[0;34m-\u001b[0m\u001b[0;36m1\u001b[0m\u001b[0;34m,\u001b[0m\u001b[0;34m\u001b[0m\u001b[0;34m\u001b[0m\u001b[0m\n\u001b[1;32m     11\u001b[0m                             \u001b[0mkappa\u001b[0m \u001b[0;34m=\u001b[0m \u001b[0;36m5\u001b[0m\u001b[0;34m,\u001b[0m\u001b[0;34m\u001b[0m\u001b[0;34m\u001b[0m\u001b[0m\n\u001b[0;32m---> 12\u001b[0;31m                             x0=[default_lr])\n\u001b[0m\u001b[1;32m     13\u001b[0m     \u001b[0mgp_results\u001b[0m\u001b[0;34m.\u001b[0m\u001b[0mappend\u001b[0m\u001b[0;34m(\u001b[0m\u001b[0mgp_result\u001b[0m\u001b[0;34m)\u001b[0m\u001b[0;34m\u001b[0m\u001b[0;34m\u001b[0m\u001b[0m\n",
            "\u001b[0;32m/usr/local/lib/python3.7/dist-packages/skopt/optimizer/gp.py\u001b[0m in \u001b[0;36mgp_minimize\u001b[0;34m(func, dimensions, base_estimator, n_calls, n_random_starts, n_initial_points, initial_point_generator, acq_func, acq_optimizer, x0, y0, random_state, verbose, callback, n_points, n_restarts_optimizer, xi, kappa, noise, n_jobs, model_queue_size)\u001b[0m\n\u001b[1;32m    266\u001b[0m         \u001b[0mn_restarts_optimizer\u001b[0m\u001b[0;34m=\u001b[0m\u001b[0mn_restarts_optimizer\u001b[0m\u001b[0;34m,\u001b[0m\u001b[0;34m\u001b[0m\u001b[0;34m\u001b[0m\u001b[0m\n\u001b[1;32m    267\u001b[0m         \u001b[0mx0\u001b[0m\u001b[0;34m=\u001b[0m\u001b[0mx0\u001b[0m\u001b[0;34m,\u001b[0m \u001b[0my0\u001b[0m\u001b[0;34m=\u001b[0m\u001b[0my0\u001b[0m\u001b[0;34m,\u001b[0m \u001b[0mrandom_state\u001b[0m\u001b[0;34m=\u001b[0m\u001b[0mrng\u001b[0m\u001b[0;34m,\u001b[0m \u001b[0mverbose\u001b[0m\u001b[0;34m=\u001b[0m\u001b[0mverbose\u001b[0m\u001b[0;34m,\u001b[0m\u001b[0;34m\u001b[0m\u001b[0;34m\u001b[0m\u001b[0m\n\u001b[0;32m--> 268\u001b[0;31m         callback=callback, n_jobs=n_jobs, model_queue_size=model_queue_size)\n\u001b[0m",
            "\u001b[0;32m/usr/local/lib/python3.7/dist-packages/skopt/optimizer/base.py\u001b[0m in \u001b[0;36mbase_minimize\u001b[0;34m(func, dimensions, base_estimator, n_calls, n_random_starts, n_initial_points, initial_point_generator, acq_func, acq_optimizer, x0, y0, random_state, verbose, callback, n_points, n_restarts_optimizer, xi, kappa, n_jobs, model_queue_size)\u001b[0m\n\u001b[1;32m    291\u001b[0m         \u001b[0;32mif\u001b[0m \u001b[0mlen\u001b[0m\u001b[0;34m(\u001b[0m\u001b[0mx0\u001b[0m\u001b[0;34m)\u001b[0m \u001b[0;34m!=\u001b[0m \u001b[0mlen\u001b[0m\u001b[0;34m(\u001b[0m\u001b[0my0\u001b[0m\u001b[0;34m)\u001b[0m\u001b[0;34m:\u001b[0m\u001b[0;34m\u001b[0m\u001b[0;34m\u001b[0m\u001b[0m\n\u001b[1;32m    292\u001b[0m             \u001b[0;32mraise\u001b[0m \u001b[0mValueError\u001b[0m\u001b[0;34m(\u001b[0m\u001b[0;34m\"`x0` and `y0` should have the same length\"\u001b[0m\u001b[0;34m)\u001b[0m\u001b[0;34m\u001b[0m\u001b[0;34m\u001b[0m\u001b[0m\n\u001b[0;32m--> 293\u001b[0;31m         \u001b[0mresult\u001b[0m \u001b[0;34m=\u001b[0m \u001b[0moptimizer\u001b[0m\u001b[0;34m.\u001b[0m\u001b[0mtell\u001b[0m\u001b[0;34m(\u001b[0m\u001b[0mx0\u001b[0m\u001b[0;34m,\u001b[0m \u001b[0my0\u001b[0m\u001b[0;34m)\u001b[0m\u001b[0;34m\u001b[0m\u001b[0;34m\u001b[0m\u001b[0m\n\u001b[0m\u001b[1;32m    294\u001b[0m         \u001b[0mresult\u001b[0m\u001b[0;34m.\u001b[0m\u001b[0mspecs\u001b[0m \u001b[0;34m=\u001b[0m \u001b[0mspecs\u001b[0m\u001b[0;34m\u001b[0m\u001b[0;34m\u001b[0m\u001b[0m\n\u001b[1;32m    295\u001b[0m         \u001b[0;32mif\u001b[0m \u001b[0meval_callbacks\u001b[0m\u001b[0;34m(\u001b[0m\u001b[0mcallbacks\u001b[0m\u001b[0;34m,\u001b[0m \u001b[0mresult\u001b[0m\u001b[0;34m)\u001b[0m\u001b[0;34m:\u001b[0m\u001b[0;34m\u001b[0m\u001b[0;34m\u001b[0m\u001b[0m\n",
            "\u001b[0;32m/usr/local/lib/python3.7/dist-packages/skopt/optimizer/optimizer.py\u001b[0m in \u001b[0;36mtell\u001b[0;34m(self, x, y, fit)\u001b[0m\n\u001b[1;32m    481\u001b[0m         \"\"\"\n\u001b[1;32m    482\u001b[0m         \u001b[0mcheck_x_in_space\u001b[0m\u001b[0;34m(\u001b[0m\u001b[0mx\u001b[0m\u001b[0;34m,\u001b[0m \u001b[0mself\u001b[0m\u001b[0;34m.\u001b[0m\u001b[0mspace\u001b[0m\u001b[0;34m)\u001b[0m\u001b[0;34m\u001b[0m\u001b[0;34m\u001b[0m\u001b[0m\n\u001b[0;32m--> 483\u001b[0;31m         \u001b[0mself\u001b[0m\u001b[0;34m.\u001b[0m\u001b[0m_check_y_is_valid\u001b[0m\u001b[0;34m(\u001b[0m\u001b[0mx\u001b[0m\u001b[0;34m,\u001b[0m \u001b[0my\u001b[0m\u001b[0;34m)\u001b[0m\u001b[0;34m\u001b[0m\u001b[0;34m\u001b[0m\u001b[0m\n\u001b[0m\u001b[1;32m    484\u001b[0m \u001b[0;34m\u001b[0m\u001b[0m\n\u001b[1;32m    485\u001b[0m         \u001b[0;31m# take the logarithm of the computation times\u001b[0m\u001b[0;34m\u001b[0m\u001b[0;34m\u001b[0m\u001b[0;34m\u001b[0m\u001b[0m\n",
            "\u001b[0;32m/usr/local/lib/python3.7/dist-packages/skopt/optimizer/optimizer.py\u001b[0m in \u001b[0;36m_check_y_is_valid\u001b[0;34m(self, x, y)\u001b[0m\n\u001b[1;32m    630\u001b[0m             \u001b[0;32mfor\u001b[0m \u001b[0my_value\u001b[0m \u001b[0;32min\u001b[0m \u001b[0my\u001b[0m\u001b[0;34m:\u001b[0m\u001b[0;34m\u001b[0m\u001b[0;34m\u001b[0m\u001b[0m\n\u001b[1;32m    631\u001b[0m                 \u001b[0;32mif\u001b[0m \u001b[0;32mnot\u001b[0m \u001b[0misinstance\u001b[0m\u001b[0;34m(\u001b[0m\u001b[0my_value\u001b[0m\u001b[0;34m,\u001b[0m \u001b[0mNumber\u001b[0m\u001b[0;34m)\u001b[0m\u001b[0;34m:\u001b[0m\u001b[0;34m\u001b[0m\u001b[0;34m\u001b[0m\u001b[0m\n\u001b[0;32m--> 632\u001b[0;31m                     \u001b[0;32mraise\u001b[0m \u001b[0mValueError\u001b[0m\u001b[0;34m(\u001b[0m\u001b[0;34m\"expected y to be a list of scalars\"\u001b[0m\u001b[0;34m)\u001b[0m\u001b[0;34m\u001b[0m\u001b[0;34m\u001b[0m\u001b[0m\n\u001b[0m\u001b[1;32m    633\u001b[0m \u001b[0;34m\u001b[0m\u001b[0m\n\u001b[1;32m    634\u001b[0m         \u001b[0;32melif\u001b[0m \u001b[0mis_listlike\u001b[0m\u001b[0;34m(\u001b[0m\u001b[0mx\u001b[0m\u001b[0;34m)\u001b[0m\u001b[0;34m:\u001b[0m\u001b[0;34m\u001b[0m\u001b[0;34m\u001b[0m\u001b[0m\n",
            "\u001b[0;31mValueError\u001b[0m: expected y to be a list of scalars"
          ]
        }
      ]
    },
    {
      "cell_type": "code",
      "metadata": {
        "colab": {
          "base_uri": "https://localhost:8080/"
        },
        "id": "rX3ZR1Y7p223",
        "outputId": "dbe7c264-ebe1-4326-c9cf-52b4acb1a53d"
      },
      "source": [
        "gp_results[0].fun"
      ],
      "execution_count": 61,
      "outputs": [
        {
          "output_type": "execute_result",
          "data": {
            "text/plain": [
              "-91.65"
            ]
          },
          "metadata": {
            "tags": []
          },
          "execution_count": 61
        }
      ]
    },
    {
      "cell_type": "code",
      "metadata": {
        "id": "zwQ4MZ5OtJgK",
        "colab": {
          "base_uri": "https://localhost:8080/"
        },
        "outputId": "3556074b-57ef-40e2-c4e8-e0ebb63b3bef"
      },
      "source": [
        "\n",
        "\n",
        "Nelder_Mead_results = []\n",
        "for default_lr in default_parameters:  \n",
        "  print(\"*****************************************************\")\n",
        "  print(\"Running optimizer for LR0: {0:.6}\".format(default_lr))\n",
        "  print(\"*****************************************************\")  \n",
        "  Nelder_Mead_result = optimize.minimize(fitness, \n",
        "                                     x0=default_lr, \n",
        "                                     method='Nelder-Mead',\n",
        "                                     options={'maxiter':10, 'maxfev':10,'disp':True, 'return_all':True}, \n",
        "                                     bounds=((1e-4,3e-3),))\n",
        "  Nelder_Mead_results.append(Nelder_Mead_result)\n"
      ],
      "execution_count": 46,
      "outputs": [
        {
          "output_type": "stream",
          "text": [
            "*****************************************************\n",
            "Running optimizer for LR0: 0.0005\n",
            "*****************************************************\n"
          ],
          "name": "stdout"
        },
        {
          "output_type": "stream",
          "text": [
            "/usr/local/lib/python3.7/dist-packages/scipy/optimize/_minimize.py:522: RuntimeWarning: Method Nelder-Mead cannot handle constraints nor bounds.\n",
            "  RuntimeWarning)\n"
          ],
          "name": "stderr"
        },
        {
          "output_type": "stream",
          "text": [
            "here 9.15\n",
            "here 9.15\n",
            "Optimization terminated successfully.\n",
            "         Current function value: -90.850000\n",
            "         Iterations: 1\n",
            "         Function evaluations: 2\n",
            "*****************************************************\n",
            "Running optimizer for LR0: 0.0075\n",
            "*****************************************************\n",
            "here 12.9\n",
            "here 12.9\n",
            "here 11.55\n",
            "here 13.4\n",
            "here 13.45\n",
            "here 11.95\n",
            "here 12.7\n",
            "here 13.1\n",
            "here 11.5\n",
            "here 12.9\n",
            "here 13.05\n",
            "here 13.25\n",
            "Warning: Maximum number of function evaluations has been exceeded.\n",
            "*****************************************************\n",
            "Running optimizer for LR0: 0.05\n",
            "*****************************************************\n",
            "here 23.0\n",
            "here 21.65\n",
            "here 21.8\n",
            "here 23.25\n",
            "here 22.55\n",
            "here 23.1\n",
            "here 26.65\n",
            "here 22.4\n",
            "here 22.6\n",
            "here 21.2\n",
            "Warning: Maximum number of function evaluations has been exceeded.\n"
          ],
          "name": "stdout"
        }
      ]
    },
    {
      "cell_type": "code",
      "metadata": {
        "colab": {
          "base_uri": "https://localhost:8080/"
        },
        "id": "HwQCzAMNshnP",
        "outputId": "fa90e601-6ccd-4258-aa8a-6db88fef08ca"
      },
      "source": [
        "Nelder_Mead_results"
      ],
      "execution_count": 65,
      "outputs": [
        {
          "output_type": "execute_result",
          "data": {
            "text/plain": [
              "[       allvecs: [array([0.0005])]\n",
              " final_simplex: (array([[0.0005  ],\n",
              "       [0.000525]]), array([-90.85, -90.85]))\n",
              "           fun: -90.85\n",
              "       message: 'Optimization terminated successfully.'\n",
              "          nfev: 2\n",
              "           nit: 1\n",
              "        status: 0\n",
              "       success: True\n",
              "             x: array([0.0005]),\n",
              "        allvecs: [array([0.0075]), array([0.007125]), array([0.007125]), array([0.00721875]), array([0.00721875])]\n",
              " final_simplex: (array([[0.00721875],\n",
              "       [0.00717187]]), array([-88.5 , -86.75]))\n",
              "           fun: -88.5\n",
              "       message: 'Maximum number of function evaluations has been exceeded.'\n",
              "          nfev: 12\n",
              "           nit: 5\n",
              "        status: 1\n",
              "       success: False\n",
              "             x: array([0.00721875]),\n",
              "        allvecs: [array([0.05]), array([0.0525]), array([0.0525]), array([0.0521875])]\n",
              " final_simplex: (array([[0.0521875],\n",
              "       [0.0525   ]]), array([-78.8 , -78.35]))\n",
              "           fun: -78.8\n",
              "       message: 'Maximum number of function evaluations has been exceeded.'\n",
              "          nfev: 10\n",
              "           nit: 4\n",
              "        status: 1\n",
              "       success: False\n",
              "             x: array([0.0521875])]"
            ]
          },
          "metadata": {
            "tags": []
          },
          "execution_count": 65
        }
      ]
    },
    {
      "cell_type": "code",
      "metadata": {
        "colab": {
          "base_uri": "https://localhost:8080/",
          "height": 775
        },
        "id": "2TWXYxP6WDkb",
        "outputId": "87984fbc-8985-4312-b06a-de80afeaf520"
      },
      "source": [
        "method_list = [gp_results,Nelder_Mead_results,L_BFGS_results,CG_results]\n",
        "for method in method_list:\n",
        "  for i in range(len(default_parameters)):\n",
        "    print('x0:',default_parameters[i],'Learning-rate', method[i].x[0],'Accuracy', -method[i].fun,'%')\n",
        "  \n",
        "  plt.scatter([x for [x] in method[0].x_iters[:]],-1*method[0].func_vals[:])"
      ],
      "execution_count": 52,
      "outputs": [
        {
          "output_type": "stream",
          "text": [
            "x0: 0.0005 Learning-rate 0.0005087953629614591 Accuracy 91.65 %\n",
            "x0: 0.0075 Learning-rate 0.0006319176590013172 Accuracy 90.4 %\n",
            "x0: 0.05 Learning-rate 0.002657908837163809 Accuracy 91.05 %\n",
            "x0: 0.0005 Learning-rate 0.0005 Accuracy 90.85 %\n",
            "x0: 0.0075 Learning-rate 0.0072187499999999995 Accuracy 88.5 %\n",
            "x0: 0.05 Learning-rate 0.052187500000000005 Accuracy 78.8 %\n"
          ],
          "name": "stdout"
        },
        {
          "output_type": "error",
          "ename": "AttributeError",
          "evalue": "ignored",
          "traceback": [
            "\u001b[0;31m---------------------------------------------------------------------------\u001b[0m",
            "\u001b[0;31mKeyError\u001b[0m                                  Traceback (most recent call last)",
            "\u001b[0;32m/usr/local/lib/python3.7/dist-packages/scipy/optimize/optimize.py\u001b[0m in \u001b[0;36m__getattr__\u001b[0;34m(self, name)\u001b[0m\n\u001b[1;32m    115\u001b[0m         \u001b[0;32mtry\u001b[0m\u001b[0;34m:\u001b[0m\u001b[0;34m\u001b[0m\u001b[0;34m\u001b[0m\u001b[0m\n\u001b[0;32m--> 116\u001b[0;31m             \u001b[0;32mreturn\u001b[0m \u001b[0mself\u001b[0m\u001b[0;34m[\u001b[0m\u001b[0mname\u001b[0m\u001b[0;34m]\u001b[0m\u001b[0;34m\u001b[0m\u001b[0;34m\u001b[0m\u001b[0m\n\u001b[0m\u001b[1;32m    117\u001b[0m         \u001b[0;32mexcept\u001b[0m \u001b[0mKeyError\u001b[0m\u001b[0;34m:\u001b[0m\u001b[0;34m\u001b[0m\u001b[0;34m\u001b[0m\u001b[0m\n",
            "\u001b[0;31mKeyError\u001b[0m: 'x_iters'",
            "\nDuring handling of the above exception, another exception occurred:\n",
            "\u001b[0;31mAttributeError\u001b[0m                            Traceback (most recent call last)",
            "\u001b[0;32m<ipython-input-52-2565d4d0fcd4>\u001b[0m in \u001b[0;36m<module>\u001b[0;34m()\u001b[0m\n\u001b[1;32m      4\u001b[0m     \u001b[0mprint\u001b[0m\u001b[0;34m(\u001b[0m\u001b[0;34m'x0:'\u001b[0m\u001b[0;34m,\u001b[0m\u001b[0mdefault_parameters\u001b[0m\u001b[0;34m[\u001b[0m\u001b[0mi\u001b[0m\u001b[0;34m]\u001b[0m\u001b[0;34m,\u001b[0m\u001b[0;34m'Learning-rate'\u001b[0m\u001b[0;34m,\u001b[0m \u001b[0mmethod\u001b[0m\u001b[0;34m[\u001b[0m\u001b[0mi\u001b[0m\u001b[0;34m]\u001b[0m\u001b[0;34m.\u001b[0m\u001b[0mx\u001b[0m\u001b[0;34m[\u001b[0m\u001b[0;36m0\u001b[0m\u001b[0;34m]\u001b[0m\u001b[0;34m,\u001b[0m\u001b[0;34m'Accuracy'\u001b[0m\u001b[0;34m,\u001b[0m \u001b[0;34m-\u001b[0m\u001b[0mmethod\u001b[0m\u001b[0;34m[\u001b[0m\u001b[0mi\u001b[0m\u001b[0;34m]\u001b[0m\u001b[0;34m.\u001b[0m\u001b[0mfun\u001b[0m\u001b[0;34m,\u001b[0m\u001b[0;34m'%'\u001b[0m\u001b[0;34m)\u001b[0m\u001b[0;34m\u001b[0m\u001b[0;34m\u001b[0m\u001b[0m\n\u001b[1;32m      5\u001b[0m \u001b[0;34m\u001b[0m\u001b[0m\n\u001b[0;32m----> 6\u001b[0;31m   \u001b[0mplt\u001b[0m\u001b[0;34m.\u001b[0m\u001b[0mscatter\u001b[0m\u001b[0;34m(\u001b[0m\u001b[0;34m[\u001b[0m\u001b[0mx\u001b[0m \u001b[0;32mfor\u001b[0m \u001b[0;34m[\u001b[0m\u001b[0mx\u001b[0m\u001b[0;34m]\u001b[0m \u001b[0;32min\u001b[0m \u001b[0mmethod\u001b[0m\u001b[0;34m[\u001b[0m\u001b[0;36m0\u001b[0m\u001b[0;34m]\u001b[0m\u001b[0;34m.\u001b[0m\u001b[0mx_iters\u001b[0m\u001b[0;34m[\u001b[0m\u001b[0;34m:\u001b[0m\u001b[0;34m]\u001b[0m\u001b[0;34m]\u001b[0m\u001b[0;34m,\u001b[0m\u001b[0;34m-\u001b[0m\u001b[0;36m1\u001b[0m\u001b[0;34m*\u001b[0m\u001b[0mmethod\u001b[0m\u001b[0;34m[\u001b[0m\u001b[0;36m0\u001b[0m\u001b[0;34m]\u001b[0m\u001b[0;34m.\u001b[0m\u001b[0mfunc_vals\u001b[0m\u001b[0;34m[\u001b[0m\u001b[0;34m:\u001b[0m\u001b[0;34m]\u001b[0m\u001b[0;34m)\u001b[0m\u001b[0;34m\u001b[0m\u001b[0;34m\u001b[0m\u001b[0m\n\u001b[0m",
            "\u001b[0;32m/usr/local/lib/python3.7/dist-packages/scipy/optimize/optimize.py\u001b[0m in \u001b[0;36m__getattr__\u001b[0;34m(self, name)\u001b[0m\n\u001b[1;32m    116\u001b[0m             \u001b[0;32mreturn\u001b[0m \u001b[0mself\u001b[0m\u001b[0;34m[\u001b[0m\u001b[0mname\u001b[0m\u001b[0;34m]\u001b[0m\u001b[0;34m\u001b[0m\u001b[0;34m\u001b[0m\u001b[0m\n\u001b[1;32m    117\u001b[0m         \u001b[0;32mexcept\u001b[0m \u001b[0mKeyError\u001b[0m\u001b[0;34m:\u001b[0m\u001b[0;34m\u001b[0m\u001b[0;34m\u001b[0m\u001b[0m\n\u001b[0;32m--> 118\u001b[0;31m             \u001b[0;32mraise\u001b[0m \u001b[0mAttributeError\u001b[0m\u001b[0;34m(\u001b[0m\u001b[0mname\u001b[0m\u001b[0;34m)\u001b[0m\u001b[0;34m\u001b[0m\u001b[0;34m\u001b[0m\u001b[0m\n\u001b[0m\u001b[1;32m    119\u001b[0m \u001b[0;34m\u001b[0m\u001b[0m\n\u001b[1;32m    120\u001b[0m     \u001b[0m__setattr__\u001b[0m \u001b[0;34m=\u001b[0m \u001b[0mdict\u001b[0m\u001b[0;34m.\u001b[0m\u001b[0m__setitem__\u001b[0m\u001b[0;34m\u001b[0m\u001b[0;34m\u001b[0m\u001b[0m\n",
            "\u001b[0;31mAttributeError\u001b[0m: x_iters"
          ]
        },
        {
          "output_type": "display_data",
          "data": {
            "image/png": "[encoded data removed]",
            "text/plain": [
              "<Figure size 432x288 with 1 Axes>"
            ]
          },
          "metadata": {
            "tags": [],
            "needs_background": "light"
          }
        }
      ]
    },
    {
      "cell_type": "code",
      "metadata": {
        "colab": {
          "base_uri": "https://localhost:8080/"
        },
        "id": "6BhxDCSmFKhJ",
        "outputId": "60453f47-4c13-46f4-a651-ced234237620"
      },
      "source": [
        "for i in range(len(default_parameters)):\n",
        "  print('x0:',default_parameters[i],'Learning-rate', gp_results[i].x[0],'Accuracy', -gp_results[i].fun,'%')"
      ],
      "execution_count": 27,
      "outputs": [
        {
          "output_type": "stream",
          "text": [
            "x0: 0.0005 Learning-rate 0.0005087953629614591 Accuracy 91.65 %\n",
            "x0: 0.0075 Learning-rate 0.0006319176590013172 Accuracy 90.4 %\n",
            "x0: 0.05 Learning-rate 0.002657908837163809 Accuracy 91.05 %\n"
          ],
          "name": "stdout"
        }
      ]
    },
    {
      "cell_type": "code",
      "metadata": {
        "colab": {
          "base_uri": "https://localhost:8080/",
          "height": 282
        },
        "id": "8JqSP4s2Ofo_",
        "outputId": "31850344-98a4-46c9-dac8-a3388f6c762a"
      },
      "source": [
        "plt.xaxis('Accuracy')\n",
        "plt.yaxis('Learning rate')\n",
        "plt.scatter([x for [x] in gp_results[0].x_iters[:]],-1*gp_results[0].func_vals[:])\n"
      ],
      "execution_count": 47,
      "outputs": [
        {
          "output_type": "execute_result",
          "data": {
            "text/plain": [
              "<matplotlib.collections.PathCollection at 0x7feb63e472d0>"
            ]
          },
          "metadata": {
            "tags": []
          },
          "execution_count": 47
        },
        {
          "output_type": "display_data",
          "data": {
            "image/png": "[encoded data removed]",
            "text/plain": [
              "<Figure size 432x288 with 1 Axes>"
            ]
          },
          "metadata": {
            "tags": [],
            "needs_background": "light"
          }
        }
      ]
    },
    {
      "cell_type": "code",
      "metadata": {
        "colab": {
          "base_uri": "https://localhost:8080/"
        },
        "id": "TZ3F0_hgUSOZ",
        "outputId": "3e7b1fe0-0acc-4c1a-bddf-f1d4dd53e4d0"
      },
      "source": [
        "L_BFGS_results = []\n",
        "for default_lr in default_parameters:  \n",
        "  print(\"*****************************************************\")\n",
        "  print(\"Running optimizer for LR0: {0:.6}\".format(default_lr))\n",
        "  print(\"*****************************************************\")  \n",
        "  L_BFGS_result = optimize.minimize(fitness, \n",
        "                                     x0=default_lr, \n",
        "                                     method='L-BFGS-B',\n",
        "                                     options={'maxiter':10, 'maxfun':10,'disp':True, 'return_all':True}, \n",
        "                                     bounds=((1e-4,3e-3),))\n",
        "  L_BFGS_results.append(L_BFGS_result)"
      ],
      "execution_count": 48,
      "outputs": [
        {
          "output_type": "stream",
          "text": [
            "*****************************************************\n",
            "Running optimizer for LR0: 0.0005\n",
            "*****************************************************\n"
          ],
          "name": "stdout"
        },
        {
          "output_type": "stream",
          "text": [
            "/usr/local/lib/python3.7/dist-packages/scipy/optimize/_minimize.py:536: RuntimeWarning: Method L-BFGS-B does not support the return_all option.\n",
            "  RuntimeWarning)\n",
            "/usr/local/lib/python3.7/dist-packages/ipykernel_launcher.py:10: OptimizeWarning: Unknown solver options: return_all\n",
            "  # Remove the CWD from sys.path while we load stuff.\n"
          ],
          "name": "stderr"
        },
        {
          "output_type": "stream",
          "text": [
            "here 11.4\n",
            "here 10.3\n",
            "here 10.0\n",
            "here 9.7\n",
            "here 8.85\n",
            "here 9.2\n",
            "here 8.55\n",
            "here 9.15\n",
            "here 10.0\n",
            "here 9.6\n",
            "here 10.85\n",
            "here 10.05\n",
            "here 10.2\n",
            "here 10.55\n",
            "*****************************************************\n",
            "Running optimizer for LR0: 0.0075\n",
            "*****************************************************\n",
            "here 9.85\n",
            "here 9.45\n",
            "*****************************************************\n",
            "Running optimizer for LR0: 0.05\n",
            "*****************************************************\n",
            "here 10.8\n",
            "here 9.9\n"
          ],
          "name": "stdout"
        }
      ]
    },
    {
      "cell_type": "code",
      "metadata": {
        "colab": {
          "base_uri": "https://localhost:8080/"
        },
        "id": "GqyF-hHxrNzA",
        "outputId": "e723bab8-dc1c-48ed-ca0b-c32b9486f8c6"
      },
      "source": [
        "L_BFGS_results[0]\n"
      ],
      "execution_count": 63,
      "outputs": [
        {
          "output_type": "execute_result",
          "data": {
            "text/plain": [
              "      fun: -89.8\n",
              " hess_inv: <1x1 LbfgsInvHessProduct with dtype=float64>\n",
              "      jac: array([34999999.99999943])\n",
              "  message: b'STOP: TOTAL NO. of f AND g EVALUATIONS EXCEEDS LIMIT'\n",
              "     nfev: 14\n",
              "      nit: 1\n",
              "   status: 1\n",
              "  success: False\n",
              "        x: array([0.000508])"
            ]
          },
          "metadata": {
            "tags": []
          },
          "execution_count": 63
        }
      ]
    },
    {
      "cell_type": "code",
      "metadata": {
        "colab": {
          "base_uri": "https://localhost:8080/"
        },
        "id": "Y30kWyK5USRQ",
        "outputId": "763f7d1a-2c47-447f-e0fc-5961ea63fa84"
      },
      "source": [
        "CG_results = []\n",
        "for default_lr in default_parameters:  \n",
        "  print(\"*****************************************************\")\n",
        "  print(\"Running optimizer for LR0: {0:.6}\".format(default_lr))\n",
        "  print(\"*****************************************************\")  \n",
        "  CG_result = optimize.minimize(fitness, \n",
        "                                     x0=default_lr, \n",
        "                                     method='CG',\n",
        "                                     options={'maxiter':10, 'maxfeval':10,'disp':True, 'return_all':True}, \n",
        "                                     bounds=((1e-4,3e-3),))\n",
        "  CG_results.append(CG_result)"
      ],
      "execution_count": 49,
      "outputs": [
        {
          "output_type": "stream",
          "text": [
            "*****************************************************\n",
            "Running optimizer for LR0: 0.0005\n",
            "*****************************************************\n"
          ],
          "name": "stdout"
        },
        {
          "output_type": "stream",
          "text": [
            "/usr/local/lib/python3.7/dist-packages/scipy/optimize/_minimize.py:522: RuntimeWarning: Method CG cannot handle constraints nor bounds.\n",
            "  RuntimeWarning)\n",
            "/usr/local/lib/python3.7/dist-packages/ipykernel_launcher.py:10: OptimizeWarning: Unknown solver options: maxfeval\n",
            "  # Remove the CWD from sys.path while we load stuff.\n"
          ],
          "name": "stderr"
        },
        {
          "output_type": "stream",
          "text": [
            "here 10.85\n",
            "here 9.95\n",
            "here 8.95\n",
            "here 23.45\n",
            "here 22.6\n",
            "here 22.45\n",
            "here 21.65\n",
            "here 22.35\n",
            "here 26.85\n",
            "here 21.8\n",
            "here 23.55\n",
            "here 22.3\n",
            "here 22.5\n",
            "here 22.2\n",
            "here 22.65\n",
            "here 18.55\n",
            "here 17.35\n",
            "here 14.95\n",
            "here 9.35\n",
            "here 9.65\n",
            "here 8.05\n",
            "here 10.05\n",
            "here 9.5\n",
            "here 8.05\n",
            "here 8.7\n",
            "here 9.05\n",
            "here 9.65\n",
            "here 9.1\n",
            "here 9.65\n",
            "here 8.4\n",
            "here 9.5\n",
            "here 9.35\n",
            "here 9.85\n",
            "here 10.25\n",
            "here 9.0\n",
            "here 9.1\n",
            "here 9.65\n",
            "here 8.1\n",
            "here 10.25\n",
            "here 10.15\n",
            "here 8.1\n",
            "here 10.9\n",
            "here 8.85\n",
            "here 9.1\n",
            "here 8.65\n",
            "here 9.55\n",
            "here 9.2\n",
            "here 10.4\n",
            "here 9.45\n",
            "here 8.8\n",
            "here 8.7\n",
            "here 9.45\n",
            "here 9.7\n",
            "here 10.2\n",
            "here 9.05\n",
            "here 9.05\n",
            "here 9.9\n",
            "here 10.25\n",
            "here 9.2\n",
            "here 12.6\n",
            "here 9.25\n",
            "here 10.5\n",
            "here 10.3\n",
            "here 10.3\n",
            "here 8.75\n",
            "here 9.15\n",
            "here 21.25\n",
            "here 22.85\n",
            "here 22.6\n",
            "here 22.1\n",
            "here 22.25\n",
            "here 15.85\n",
            "here 12.4\n",
            "here 8.85\n",
            "here 10.95\n",
            "here 10.15\n",
            "here 9.1\n",
            "here 7.85\n",
            "here 9.35\n",
            "here 9.3\n",
            "here 9.2\n",
            "here 9.55\n",
            "here 9.25\n",
            "here 9.7\n",
            "here 9.95\n",
            "here 9.1\n",
            "here 8.85\n",
            "here 9.7\n",
            "here 9.3\n",
            "here 9.05\n",
            "here 9.75\n",
            "here 9.35\n",
            "here 8.95\n",
            "here 8.35\n",
            "here 8.65\n",
            "here 8.15\n",
            "here 8.9\n",
            "here 9.3\n",
            "here 9.75\n",
            "here 9.95\n",
            "here 9.5\n",
            "here 10.7\n",
            "here 10.25\n",
            "here 8.95\n",
            "here 8.85\n",
            "here 8.45\n",
            "here 10.3\n",
            "here 8.9\n",
            "here 9.85\n",
            "here 9.85\n",
            "here 9.55\n",
            "here 10.3\n",
            "here 9.3\n",
            "Warning: Desired error not necessarily achieved due to precision loss.\n",
            "         Current function value: -92.150000\n",
            "         Iterations: 1\n",
            "         Function evaluations: 113\n",
            "         Gradient evaluations: 30\n",
            "*****************************************************\n",
            "Running optimizer for LR0: 0.0075\n",
            "*****************************************************\n"
          ],
          "name": "stdout"
        },
        {
          "output_type": "stream",
          "text": [
            "/usr/local/lib/python3.7/dist-packages/scipy/optimize/_minimize.py:522: RuntimeWarning: Method CG cannot handle constraints nor bounds.\n",
            "  RuntimeWarning)\n",
            "/usr/local/lib/python3.7/dist-packages/ipykernel_launcher.py:10: OptimizeWarning: Unknown solver options: maxfeval\n",
            "  # Remove the CWD from sys.path while we load stuff.\n"
          ],
          "name": "stderr"
        },
        {
          "output_type": "stream",
          "text": [
            "here 13.25\n",
            "here 11.3\n",
            "here 15.35\n",
            "here 24.05\n",
            "here 27.6\n",
            "here 22.1\n",
            "here 21.4\n",
            "here 21.95\n",
            "here 24.0\n",
            "here 22.6\n",
            "here 26.65\n",
            "here 23.6\n",
            "here 16.8\n",
            "here 22.75\n",
            "here 16.6\n",
            "here 13.55\n",
            "here 11.95\n",
            "here 15.3\n",
            "here 14.25\n",
            "here 11.05\n",
            "here 12.35\n",
            "here 15.9\n",
            "here 12.55\n",
            "here 12.8\n",
            "here 11.45\n",
            "here 13.55\n",
            "here 11.85\n",
            "here 11.2\n",
            "here 12.1\n",
            "here 12.9\n",
            "here 13.75\n",
            "here 12.05\n",
            "here 12.3\n",
            "here 13.0\n",
            "here 15.8\n",
            "here 13.1\n",
            "here 11.85\n",
            "here 14.2\n",
            "here 12.2\n",
            "here 12.25\n",
            "here 11.9\n",
            "here 11.7\n",
            "here 12.25\n",
            "here 13.25\n",
            "here 11.6\n",
            "here 12.65\n",
            "here 14.8\n",
            "here 13.95\n",
            "here 12.1\n",
            "here 11.15\n",
            "here 12.35\n",
            "here 14.35\n",
            "here 12.25\n",
            "here 11.55\n",
            "here 14.45\n",
            "here 14.2\n",
            "here 13.15\n",
            "here 14.1\n",
            "here 12.25\n",
            "here 13.45\n",
            "here 11.85\n",
            "here 13.1\n",
            "here 15.75\n",
            "here 12.3\n",
            "here 13.6\n",
            "here 14.15\n",
            "here 12.3\n",
            "here 13.0\n",
            "here 13.55\n",
            "here 12.6\n",
            "here 12.0\n",
            "here 14.1\n",
            "here 12.65\n",
            "here 13.4\n",
            "here 10.45\n",
            "here 13.3\n",
            "here 12.65\n",
            "here 12.8\n",
            "here 11.6\n",
            "here 12.65\n",
            "here 11.95\n",
            "here 12.45\n",
            "here 13.45\n",
            "here 13.25\n",
            "here 15.45\n",
            "Warning: Desired error not necessarily achieved due to precision loss.\n",
            "         Current function value: -87.750000\n",
            "         Iterations: 1\n",
            "         Function evaluations: 85\n",
            "         Gradient evaluations: 25\n",
            "*****************************************************\n",
            "Running optimizer for LR0: 0.05\n",
            "*****************************************************\n"
          ],
          "name": "stdout"
        },
        {
          "output_type": "stream",
          "text": [
            "/usr/local/lib/python3.7/dist-packages/scipy/optimize/_minimize.py:522: RuntimeWarning: Method CG cannot handle constraints nor bounds.\n",
            "  RuntimeWarning)\n",
            "/usr/local/lib/python3.7/dist-packages/ipykernel_launcher.py:10: OptimizeWarning: Unknown solver options: maxfeval\n",
            "  # Remove the CWD from sys.path while we load stuff.\n"
          ],
          "name": "stderr"
        },
        {
          "output_type": "stream",
          "text": [
            "here 23.2\n",
            "here 21.45\n",
            "here 22.75\n",
            "here 25.5\n",
            "here 22.35\n",
            "here 21.6\n",
            "here 23.4\n",
            "here 19.9\n",
            "here 21.95\n",
            "here 27.65\n",
            "here 29.0\n",
            "here 24.1\n",
            "here 21.45\n",
            "here 22.15\n",
            "here 21.45\n",
            "here 21.55\n",
            "here 23.4\n",
            "here 20.95\n",
            "here 22.75\n",
            "here 23.7\n",
            "here 22.75\n",
            "here 21.05\n",
            "here 22.0\n",
            "here 22.0\n",
            "here 21.95\n",
            "here 21.9\n",
            "here 23.5\n",
            "here 22.75\n",
            "here 23.0\n",
            "here 22.5\n",
            "here 22.7\n",
            "here 21.15\n",
            "here 21.65\n",
            "here 23.95\n",
            "here 21.5\n",
            "here 22.0\n",
            "here 23.0\n",
            "here 22.05\n",
            "here 23.2\n",
            "here 21.5\n",
            "here 22.05\n",
            "here 23.55\n",
            "here 23.1\n",
            "here 22.35\n",
            "here 21.75\n",
            "here 24.15\n",
            "here 23.85\n",
            "here 20.75\n",
            "here 22.9\n",
            "here 22.25\n",
            "here 23.4\n",
            "here 22.0\n",
            "here 21.95\n",
            "here 21.85\n",
            "here 24.25\n",
            "here 22.4\n",
            "here 21.45\n",
            "here 21.95\n",
            "here 21.65\n",
            "here 21.95\n",
            "here 21.5\n",
            "here 22.55\n",
            "here 22.8\n",
            "here 23.1\n",
            "here 22.5\n",
            "here 21.95\n",
            "here 22.5\n",
            "here 21.1\n",
            "here 23.6\n",
            "here 26.65\n",
            "here 22.25\n",
            "here 23.25\n",
            "here 23.75\n",
            "here 23.4\n",
            "here 22.05\n",
            "here 22.95\n",
            "here 22.75\n",
            "here 21.25\n",
            "here 22.6\n",
            "here 21.75\n",
            "here 22.55\n",
            "here 23.05\n",
            "here 22.6\n",
            "here 22.65\n",
            "here 22.85\n",
            "here 22.4\n",
            "here 23.2\n",
            "here 22.55\n",
            "here 22.8\n",
            "Warning: Desired error not necessarily achieved due to precision loss.\n",
            "         Current function value: -78.000000\n",
            "         Iterations: 1\n",
            "         Function evaluations: 89\n",
            "         Gradient evaluations: 26\n"
          ],
          "name": "stdout"
        }
      ]
    },
    {
      "cell_type": "code",
      "metadata": {
        "colab": {
          "base_uri": "https://localhost:8080/"
        },
        "id": "duBTly_6sJFH",
        "outputId": "0e814bcc-4d58-4aff-e7ad-c9d8494e360b"
      },
      "source": [
        " CG_results"
      ],
      "execution_count": 64,
      "outputs": [
        {
          "output_type": "execute_result",
          "data": {
            "text/plain": [
              "[ allvecs: [array([0.0005]), array([0.00061767])]\n",
              "     fun: -92.15\n",
              "     jac: array([-3355443.19999981])\n",
              " message: 'Desired error not necessarily achieved due to precision loss.'\n",
              "    nfev: 113\n",
              "     nit: 1\n",
              "    njev: 30\n",
              "  status: 2\n",
              " success: False\n",
              "       x: array([0.00061767]),\n",
              "  allvecs: [array([0.0075]), array([0.00771694])]\n",
              "     fun: -87.75\n",
              "     jac: array([-13421772.80000019])\n",
              " message: 'Desired error not necessarily achieved due to precision loss.'\n",
              "    nfev: 85\n",
              "     nit: 1\n",
              "    njev: 25\n",
              "  status: 2\n",
              " success: False\n",
              "       x: array([0.00771694]),\n",
              "  allvecs: [array([0.05]), array([0.05000066])]\n",
              "     fun: -78.0\n",
              "     jac: array([-6710886.40000057])\n",
              " message: 'Desired error not necessarily achieved due to precision loss.'\n",
              "    nfev: 89\n",
              "     nit: 1\n",
              "    njev: 26\n",
              "  status: 2\n",
              " success: False\n",
              "       x: array([0.05000066])]"
            ]
          },
          "metadata": {
            "tags": []
          },
          "execution_count": 64
        }
      ]
    },
    {
      "cell_type": "code",
      "metadata": {
        "colab": {
          "base_uri": "https://localhost:8080/",
          "height": 544
        },
        "id": "bwm_9a56UST7",
        "outputId": "d5eb9a3a-81e0-4c2a-bab3-3cf3a69a7fc4"
      },
      "source": [
        "COBYLA_results = []\n",
        "for default_lr in default_parameters:  \n",
        "  print(\"*****************************************************\")\n",
        "  print(\"Running optimizer for LR0: {0:.6}\".format(default_lr))\n",
        "  print(\"*****************************************************\")  \n",
        "  COBYLA_result = optimize.minimize(fitness, \n",
        "                                     x0=default_lr, \n",
        "                                     method='COBYLA',\n",
        "                                     options={'maxiter':10, 'maxfeval':10,'disp':True, 'return_all':True}, \n",
        "                                     bounds=((1e-4,3e-3),))\n",
        "  COBYLA_results.append(COBYLA_result)"
      ],
      "execution_count": 50,
      "outputs": [
        {
          "output_type": "stream",
          "text": [
            "*****************************************************\n",
            "Running optimizer for LR0: 0.0005\n",
            "*****************************************************\n"
          ],
          "name": "stdout"
        },
        {
          "output_type": "stream",
          "text": [
            "/usr/local/lib/python3.7/dist-packages/scipy/optimize/_minimize.py:528: RuntimeWarning: Method COBYLA cannot handle bounds.\n",
            "  RuntimeWarning)\n",
            "/usr/local/lib/python3.7/dist-packages/scipy/optimize/_minimize.py:536: RuntimeWarning: Method COBYLA does not support the return_all option.\n",
            "  RuntimeWarning)\n",
            "/usr/local/lib/python3.7/dist-packages/ipykernel_launcher.py:10: OptimizeWarning: Unknown solver options: maxfeval, return_all\n",
            "  # Remove the CWD from sys.path while we load stuff.\n"
          ],
          "name": "stderr"
        },
        {
          "output_type": "stream",
          "text": [
            "here 9.6\n",
            "here 27.3\n"
          ],
          "name": "stdout"
        },
        {
          "output_type": "error",
          "ename": "ValueError",
          "evalue": "ignored",
          "traceback": [
            "\u001b[0;31m---------------------------------------------------------------------------\u001b[0m",
            "\u001b[0;31mValueError\u001b[0m                                Traceback (most recent call last)",
            "\u001b[0;32m<ipython-input-50-73101f124cb2>\u001b[0m in \u001b[0;36m<module>\u001b[0;34m()\u001b[0m\n\u001b[1;32m      8\u001b[0m                                      \u001b[0mmethod\u001b[0m\u001b[0;34m=\u001b[0m\u001b[0;34m'COBYLA'\u001b[0m\u001b[0;34m,\u001b[0m\u001b[0;34m\u001b[0m\u001b[0;34m\u001b[0m\u001b[0m\n\u001b[1;32m      9\u001b[0m                                      \u001b[0moptions\u001b[0m\u001b[0;34m=\u001b[0m\u001b[0;34m{\u001b[0m\u001b[0;34m'maxiter'\u001b[0m\u001b[0;34m:\u001b[0m\u001b[0;36m10\u001b[0m\u001b[0;34m,\u001b[0m \u001b[0;34m'maxfeval'\u001b[0m\u001b[0;34m:\u001b[0m\u001b[0;36m10\u001b[0m\u001b[0;34m,\u001b[0m\u001b[0;34m'disp'\u001b[0m\u001b[0;34m:\u001b[0m\u001b[0;32mTrue\u001b[0m\u001b[0;34m,\u001b[0m \u001b[0;34m'return_all'\u001b[0m\u001b[0;34m:\u001b[0m\u001b[0;32mTrue\u001b[0m\u001b[0;34m}\u001b[0m\u001b[0;34m,\u001b[0m\u001b[0;34m\u001b[0m\u001b[0;34m\u001b[0m\u001b[0m\n\u001b[0;32m---> 10\u001b[0;31m                                      bounds=((1e-4,3e-3),))\n\u001b[0m\u001b[1;32m     11\u001b[0m   \u001b[0mCOBYLA_results\u001b[0m\u001b[0;34m.\u001b[0m\u001b[0mappend\u001b[0m\u001b[0;34m(\u001b[0m\u001b[0mCOBYLA_result\u001b[0m\u001b[0;34m)\u001b[0m\u001b[0;34m\u001b[0m\u001b[0;34m\u001b[0m\u001b[0m\n",
            "\u001b[0;32m/usr/local/lib/python3.7/dist-packages/scipy/optimize/_minimize.py\u001b[0m in \u001b[0;36mminimize\u001b[0;34m(fun, x0, args, method, jac, hess, hessp, bounds, constraints, tol, callback, options)\u001b[0m\n\u001b[1;32m    613\u001b[0m                              **options)\n\u001b[1;32m    614\u001b[0m     \u001b[0;32melif\u001b[0m \u001b[0mmeth\u001b[0m \u001b[0;34m==\u001b[0m \u001b[0;34m'cobyla'\u001b[0m\u001b[0;34m:\u001b[0m\u001b[0;34m\u001b[0m\u001b[0;34m\u001b[0m\u001b[0m\n\u001b[0;32m--> 615\u001b[0;31m         \u001b[0;32mreturn\u001b[0m \u001b[0m_minimize_cobyla\u001b[0m\u001b[0;34m(\u001b[0m\u001b[0mfun\u001b[0m\u001b[0;34m,\u001b[0m \u001b[0mx0\u001b[0m\u001b[0;34m,\u001b[0m \u001b[0margs\u001b[0m\u001b[0;34m,\u001b[0m \u001b[0mconstraints\u001b[0m\u001b[0;34m,\u001b[0m \u001b[0;34m**\u001b[0m\u001b[0moptions\u001b[0m\u001b[0;34m)\u001b[0m\u001b[0;34m\u001b[0m\u001b[0;34m\u001b[0m\u001b[0m\n\u001b[0m\u001b[1;32m    616\u001b[0m     \u001b[0;32melif\u001b[0m \u001b[0mmeth\u001b[0m \u001b[0;34m==\u001b[0m \u001b[0;34m'slsqp'\u001b[0m\u001b[0;34m:\u001b[0m\u001b[0;34m\u001b[0m\u001b[0;34m\u001b[0m\u001b[0m\n\u001b[1;32m    617\u001b[0m         return _minimize_slsqp(fun, x0, args, jac, bounds,\n",
            "\u001b[0;32m/usr/local/lib/python3.7/dist-packages/scipy/optimize/cobyla.py\u001b[0m in \u001b[0;36m_minimize_cobyla\u001b[0;34m(fun, x0, args, constraints, rhobeg, tol, maxiter, disp, catol, **unknown_options)\u001b[0m\n\u001b[1;32m    250\u001b[0m     xopt, info = _cobyla.minimize(calcfc, m=m, x=np.copy(x0), rhobeg=rhobeg,\n\u001b[1;32m    251\u001b[0m                                   \u001b[0mrhoend\u001b[0m\u001b[0;34m=\u001b[0m\u001b[0mrhoend\u001b[0m\u001b[0;34m,\u001b[0m \u001b[0miprint\u001b[0m\u001b[0;34m=\u001b[0m\u001b[0miprint\u001b[0m\u001b[0;34m,\u001b[0m \u001b[0mmaxfun\u001b[0m\u001b[0;34m=\u001b[0m\u001b[0mmaxfun\u001b[0m\u001b[0;34m,\u001b[0m\u001b[0;34m\u001b[0m\u001b[0;34m\u001b[0m\u001b[0m\n\u001b[0;32m--> 252\u001b[0;31m                                   dinfo=info)\n\u001b[0m\u001b[1;32m    253\u001b[0m \u001b[0;34m\u001b[0m\u001b[0m\n\u001b[1;32m    254\u001b[0m     \u001b[0;32mif\u001b[0m \u001b[0minfo\u001b[0m\u001b[0;34m[\u001b[0m\u001b[0;36m3\u001b[0m\u001b[0;34m]\u001b[0m \u001b[0;34m>\u001b[0m \u001b[0mcatol\u001b[0m\u001b[0;34m:\u001b[0m\u001b[0;34m\u001b[0m\u001b[0;34m\u001b[0m\u001b[0m\n",
            "\u001b[0;32m/usr/local/lib/python3.7/dist-packages/scipy/optimize/cobyla.py\u001b[0m in \u001b[0;36mcalcfc\u001b[0;34m(x, con)\u001b[0m\n\u001b[1;32m    240\u001b[0m \u001b[0;34m\u001b[0m\u001b[0m\n\u001b[1;32m    241\u001b[0m     \u001b[0;32mdef\u001b[0m \u001b[0mcalcfc\u001b[0m\u001b[0;34m(\u001b[0m\u001b[0mx\u001b[0m\u001b[0;34m,\u001b[0m \u001b[0mcon\u001b[0m\u001b[0;34m)\u001b[0m\u001b[0;34m:\u001b[0m\u001b[0;34m\u001b[0m\u001b[0;34m\u001b[0m\u001b[0m\n\u001b[0;32m--> 242\u001b[0;31m         \u001b[0mf\u001b[0m \u001b[0;34m=\u001b[0m \u001b[0mfun\u001b[0m\u001b[0;34m(\u001b[0m\u001b[0mx\u001b[0m\u001b[0;34m,\u001b[0m \u001b[0;34m*\u001b[0m\u001b[0margs\u001b[0m\u001b[0;34m)\u001b[0m\u001b[0;34m\u001b[0m\u001b[0;34m\u001b[0m\u001b[0m\n\u001b[0m\u001b[1;32m    243\u001b[0m         \u001b[0mi\u001b[0m \u001b[0;34m=\u001b[0m \u001b[0;36m0\u001b[0m\u001b[0;34m\u001b[0m\u001b[0;34m\u001b[0m\u001b[0m\n\u001b[1;32m    244\u001b[0m         \u001b[0;32mfor\u001b[0m \u001b[0msize\u001b[0m\u001b[0;34m,\u001b[0m \u001b[0mc\u001b[0m \u001b[0;32min\u001b[0m \u001b[0mizip\u001b[0m\u001b[0;34m(\u001b[0m\u001b[0mcons_lengths\u001b[0m\u001b[0;34m,\u001b[0m \u001b[0mconstraints\u001b[0m\u001b[0;34m)\u001b[0m\u001b[0;34m:\u001b[0m\u001b[0;34m\u001b[0m\u001b[0;34m\u001b[0m\u001b[0m\n",
            "\u001b[0;32m<ipython-input-24-89995b21f367>\u001b[0m in \u001b[0;36mfitness\u001b[0;34m(lr)\u001b[0m\n\u001b[1;32m      2\u001b[0m \u001b[0;32mdef\u001b[0m \u001b[0mfitness\u001b[0m\u001b[0;34m(\u001b[0m\u001b[0mlr\u001b[0m\u001b[0;34m)\u001b[0m\u001b[0;34m:\u001b[0m\u001b[0;34m\u001b[0m\u001b[0;34m\u001b[0m\u001b[0m\n\u001b[1;32m      3\u001b[0m   \u001b[0mlr\u001b[0m \u001b[0;34m=\u001b[0m \u001b[0mfloat\u001b[0m\u001b[0;34m(\u001b[0m\u001b[0mlr\u001b[0m\u001b[0;34m[\u001b[0m\u001b[0;36m0\u001b[0m\u001b[0;34m]\u001b[0m\u001b[0;34m)\u001b[0m\u001b[0;34m\u001b[0m\u001b[0;34m\u001b[0m\u001b[0m\n\u001b[0;32m----> 4\u001b[0;31m   \u001b[0;32mreturn\u001b[0m \u001b[0;34m-\u001b[0m\u001b[0;36m1\u001b[0m\u001b[0;34m*\u001b[0m\u001b[0;34m(\u001b[0m\u001b[0mreturn_accuracy\u001b[0m\u001b[0;34m(\u001b[0m\u001b[0mlr\u001b[0m\u001b[0;34m)\u001b[0m\u001b[0;34m)\u001b[0m\u001b[0;34m\u001b[0m\u001b[0;34m\u001b[0m\u001b[0m\n\u001b[0m\u001b[1;32m      5\u001b[0m dim_learning_rate = Real(low=1e-4, high=1e-1, prior='log-uniform',\n\u001b[1;32m      6\u001b[0m                          name='learning_rate')\n",
            "\u001b[0;32m<ipython-input-8-3278912d0250>\u001b[0m in \u001b[0;36mreturn_accuracy\u001b[0;34m(learningrate)\u001b[0m\n\u001b[1;32m      3\u001b[0m     \u001b[0mmodel\u001b[0m \u001b[0;34m=\u001b[0m \u001b[0;34m\"Auxiliary\"\u001b[0m\u001b[0;34m\u001b[0m\u001b[0;34m\u001b[0m\u001b[0m\n\u001b[1;32m      4\u001b[0m     \u001b[0mmodel2\u001b[0m \u001b[0;34m=\u001b[0m \u001b[0mAuxiliary\u001b[0m\u001b[0;34m(\u001b[0m\u001b[0mgenerate_pair_sets\u001b[0m\u001b[0;34m)\u001b[0m\u001b[0;34m\u001b[0m\u001b[0;34m\u001b[0m\u001b[0m\n\u001b[0;32m----> 5\u001b[0;31m     \u001b[0mmRes2\u001b[0m \u001b[0;34m=\u001b[0m \u001b[0mtrain_and_test_rounds\u001b[0m\u001b[0;34m(\u001b[0m\u001b[0mmodel2\u001b[0m\u001b[0;34m,\u001b[0m \u001b[0mnumber_rounds\u001b[0m\u001b[0;34m,\u001b[0m \u001b[0;34m\"Auxiliary\"\u001b[0m\u001b[0;34m,\u001b[0m\u001b[0mlearningrate\u001b[0m\u001b[0;34m)\u001b[0m\u001b[0;34m\u001b[0m\u001b[0;34m\u001b[0m\u001b[0m\n\u001b[0m\u001b[1;32m      6\u001b[0m     \u001b[0mprint\u001b[0m\u001b[0;34m(\u001b[0m\u001b[0;34m\"here\"\u001b[0m\u001b[0;34m,\u001b[0m\u001b[0msum\u001b[0m\u001b[0;34m(\u001b[0m\u001b[0mmRes2\u001b[0m\u001b[0;34m.\u001b[0m\u001b[0mtest_err_rates\u001b[0m\u001b[0;34m)\u001b[0m\u001b[0;34m/\u001b[0m\u001b[0mlen\u001b[0m\u001b[0;34m(\u001b[0m\u001b[0mmRes2\u001b[0m\u001b[0;34m.\u001b[0m\u001b[0mtest_err_rates\u001b[0m\u001b[0;34m)\u001b[0m\u001b[0;34m)\u001b[0m\u001b[0;34m\u001b[0m\u001b[0;34m\u001b[0m\u001b[0m\n\u001b[1;32m      7\u001b[0m     \u001b[0;32mreturn\u001b[0m \u001b[0;34m(\u001b[0m\u001b[0;36m100\u001b[0m \u001b[0;34m-\u001b[0m \u001b[0msum\u001b[0m\u001b[0;34m(\u001b[0m\u001b[0mmRes2\u001b[0m\u001b[0;34m.\u001b[0m\u001b[0mtest_err_rates\u001b[0m\u001b[0;34m)\u001b[0m\u001b[0;34m/\u001b[0m\u001b[0mlen\u001b[0m\u001b[0;34m(\u001b[0m\u001b[0mmRes2\u001b[0m\u001b[0;34m.\u001b[0m\u001b[0mtest_err_rates\u001b[0m\u001b[0;34m)\u001b[0m\u001b[0;34m)\u001b[0m\u001b[0;34m\u001b[0m\u001b[0;34m\u001b[0m\u001b[0m\n",
            "\u001b[0;32m<ipython-input-6-4dfb96c1009c>\u001b[0m in \u001b[0;36mtrain_and_test_rounds\u001b[0;34m(model, nb_rounds, test_id, learningrate)\u001b[0m\n\u001b[1;32m     24\u001b[0m             \u001b[0mlayer\u001b[0m\u001b[0;34m.\u001b[0m\u001b[0mreset_parameters\u001b[0m\u001b[0;34m(\u001b[0m\u001b[0;34m)\u001b[0m\u001b[0;34m\u001b[0m\u001b[0;34m\u001b[0m\u001b[0m\n\u001b[1;32m     25\u001b[0m         \u001b[0;31m#print(model._compute_errors(test_input, test_target) )\u001b[0m\u001b[0;34m\u001b[0m\u001b[0;34m\u001b[0m\u001b[0;34m\u001b[0m\u001b[0m\n\u001b[0;32m---> 26\u001b[0;31m         \u001b[0mtrains_err_rate\u001b[0m\u001b[0;34m,\u001b[0m \u001b[0mtests_err_rate\u001b[0m\u001b[0;34m,\u001b[0m \u001b[0mlosses_\u001b[0m \u001b[0;34m=\u001b[0m \u001b[0mmodel\u001b[0m\u001b[0;34m.\u001b[0m\u001b[0mtrain_and_test\u001b[0m\u001b[0;34m(\u001b[0m\u001b[0;34m)\u001b[0m\u001b[0;34m\u001b[0m\u001b[0;34m\u001b[0m\u001b[0m\n\u001b[0m\u001b[1;32m     27\u001b[0m         \u001b[0mtrains_err_rates\u001b[0m\u001b[0;34m.\u001b[0m\u001b[0mappend\u001b[0m\u001b[0;34m(\u001b[0m\u001b[0mtrains_err_rate\u001b[0m\u001b[0;34m)\u001b[0m\u001b[0;34m\u001b[0m\u001b[0;34m\u001b[0m\u001b[0m\n\u001b[1;32m     28\u001b[0m         \u001b[0mtests_err_rates\u001b[0m\u001b[0;34m.\u001b[0m\u001b[0mappend\u001b[0m\u001b[0;34m(\u001b[0m\u001b[0mtests_err_rate\u001b[0m\u001b[0;34m)\u001b[0m\u001b[0;34m\u001b[0m\u001b[0;34m\u001b[0m\u001b[0m\n",
            "\u001b[0;32m<ipython-input-5-cd7dafb1a7eb>\u001b[0m in \u001b[0;36mtrain_and_test\u001b[0;34m(self)\u001b[0m\n\u001b[1;32m     45\u001b[0m         \u001b[0mtest_classes\u001b[0m \u001b[0;34m=\u001b[0m \u001b[0mtest_classes\u001b[0m\u001b[0;34m.\u001b[0m\u001b[0mview\u001b[0m\u001b[0;34m(\u001b[0m\u001b[0;34m-\u001b[0m\u001b[0;36m1\u001b[0m\u001b[0;34m)\u001b[0m\u001b[0;34m\u001b[0m\u001b[0;34m\u001b[0m\u001b[0m\n\u001b[1;32m     46\u001b[0m \u001b[0;34m\u001b[0m\u001b[0m\n\u001b[0;32m---> 47\u001b[0;31m         \u001b[0mlosses\u001b[0m \u001b[0;34m=\u001b[0m \u001b[0mself\u001b[0m\u001b[0;34m.\u001b[0m\u001b[0m_train\u001b[0m\u001b[0;34m(\u001b[0m\u001b[0mtrain_input\u001b[0m\u001b[0;34m,\u001b[0m \u001b[0mtrain_target\u001b[0m\u001b[0;34m,\u001b[0m \u001b[0mtrain_classes\u001b[0m\u001b[0;34m)\u001b[0m\u001b[0;34m\u001b[0m\u001b[0;34m\u001b[0m\u001b[0m\n\u001b[0m\u001b[1;32m     48\u001b[0m         \u001b[0mtrain_err_rate\u001b[0m \u001b[0;34m=\u001b[0m \u001b[0mself\u001b[0m\u001b[0;34m.\u001b[0m\u001b[0m_compute_errors\u001b[0m\u001b[0;34m(\u001b[0m\u001b[0mtrain_input\u001b[0m\u001b[0;34m,\u001b[0m \u001b[0mtrain_target\u001b[0m\u001b[0;34m)\u001b[0m\u001b[0;34m\u001b[0m\u001b[0;34m\u001b[0m\u001b[0m\n\u001b[1;32m     49\u001b[0m         \u001b[0mtest_err_rate\u001b[0m \u001b[0;34m=\u001b[0m \u001b[0mself\u001b[0m\u001b[0;34m.\u001b[0m\u001b[0m_compute_errors\u001b[0m\u001b[0;34m(\u001b[0m\u001b[0mtest_input\u001b[0m\u001b[0;34m,\u001b[0m \u001b[0mtest_target\u001b[0m\u001b[0;34m)\u001b[0m\u001b[0;34m\u001b[0m\u001b[0;34m\u001b[0m\u001b[0m\n",
            "\u001b[0;32m<ipython-input-5-cd7dafb1a7eb>\u001b[0m in \u001b[0;36m_train\u001b[0;34m(self, train_input, train_target, train_classes)\u001b[0m\n\u001b[1;32m     54\u001b[0m         \u001b[0;31m#Train the model\u001b[0m\u001b[0;34m\u001b[0m\u001b[0;34m\u001b[0m\u001b[0;34m\u001b[0m\u001b[0m\n\u001b[1;32m     55\u001b[0m         \u001b[0mcriterion\u001b[0m \u001b[0;34m=\u001b[0m \u001b[0mnn\u001b[0m\u001b[0;34m.\u001b[0m\u001b[0mCrossEntropyLoss\u001b[0m\u001b[0;34m(\u001b[0m\u001b[0;34m)\u001b[0m\u001b[0;34m\u001b[0m\u001b[0;34m\u001b[0m\u001b[0m\n\u001b[0;32m---> 56\u001b[0;31m         \u001b[0moptimizer\u001b[0m \u001b[0;34m=\u001b[0m \u001b[0moptim\u001b[0m\u001b[0;34m.\u001b[0m\u001b[0mAdam\u001b[0m\u001b[0;34m(\u001b[0m\u001b[0mself\u001b[0m\u001b[0;34m.\u001b[0m\u001b[0mparameters\u001b[0m\u001b[0;34m(\u001b[0m\u001b[0;34m)\u001b[0m\u001b[0;34m,\u001b[0m \u001b[0mself\u001b[0m\u001b[0;34m.\u001b[0m\u001b[0mlr\u001b[0m\u001b[0;34m)\u001b[0m\u001b[0;34m\u001b[0m\u001b[0;34m\u001b[0m\u001b[0m\n\u001b[0m\u001b[1;32m     57\u001b[0m \u001b[0;34m\u001b[0m\u001b[0m\n\u001b[1;32m     58\u001b[0m         \u001b[0mlosses\u001b[0m \u001b[0;34m=\u001b[0m \u001b[0;34m[\u001b[0m\u001b[0;34m]\u001b[0m\u001b[0;34m\u001b[0m\u001b[0;34m\u001b[0m\u001b[0m\n",
            "\u001b[0;32m/usr/local/lib/python3.7/dist-packages/torch/optim/adam.py\u001b[0m in \u001b[0;36m__init__\u001b[0;34m(self, params, lr, betas, eps, weight_decay, amsgrad)\u001b[0m\n\u001b[1;32m     35\u001b[0m                  weight_decay=0, amsgrad=False):\n\u001b[1;32m     36\u001b[0m         \u001b[0;32mif\u001b[0m \u001b[0;32mnot\u001b[0m \u001b[0;36m0.0\u001b[0m \u001b[0;34m<=\u001b[0m \u001b[0mlr\u001b[0m\u001b[0;34m:\u001b[0m\u001b[0;34m\u001b[0m\u001b[0;34m\u001b[0m\u001b[0m\n\u001b[0;32m---> 37\u001b[0;31m             \u001b[0;32mraise\u001b[0m \u001b[0mValueError\u001b[0m\u001b[0;34m(\u001b[0m\u001b[0;34m\"Invalid learning rate: {}\"\u001b[0m\u001b[0;34m.\u001b[0m\u001b[0mformat\u001b[0m\u001b[0;34m(\u001b[0m\u001b[0mlr\u001b[0m\u001b[0;34m)\u001b[0m\u001b[0;34m)\u001b[0m\u001b[0;34m\u001b[0m\u001b[0;34m\u001b[0m\u001b[0m\n\u001b[0m\u001b[1;32m     38\u001b[0m         \u001b[0;32mif\u001b[0m \u001b[0;32mnot\u001b[0m \u001b[0;36m0.0\u001b[0m \u001b[0;34m<=\u001b[0m \u001b[0meps\u001b[0m\u001b[0;34m:\u001b[0m\u001b[0;34m\u001b[0m\u001b[0;34m\u001b[0m\u001b[0m\n\u001b[1;32m     39\u001b[0m             \u001b[0;32mraise\u001b[0m \u001b[0mValueError\u001b[0m\u001b[0;34m(\u001b[0m\u001b[0;34m\"Invalid epsilon value: {}\"\u001b[0m\u001b[0;34m.\u001b[0m\u001b[0mformat\u001b[0m\u001b[0;34m(\u001b[0m\u001b[0meps\u001b[0m\u001b[0;34m)\u001b[0m\u001b[0;34m)\u001b[0m\u001b[0;34m\u001b[0m\u001b[0;34m\u001b[0m\u001b[0m\n",
            "\u001b[0;31mValueError\u001b[0m: Invalid learning rate: -0.9995"
          ]
        }
      ]
    },
    {
      "cell_type": "code",
      "metadata": {
        "colab": {
          "base_uri": "https://localhost:8080/",
          "height": 351
        },
        "id": "OUXtCx1bUSWz",
        "outputId": "fe261b43-720f-4434-b333-7558b5600c19"
      },
      "source": [
        "fig = plt.figure(figsize=(10,5))\n",
        "\n",
        "plt.scatter(Nelder_Mead_results[0].x[0],-Nelder_Mead_results[0].fun,marker='o',c='b',s=20, label = 'Nelder_Mead_point1')\n",
        "\n",
        "plt.scatter(Nelder_Mead_results[1].x[0],-Nelder_Mead_results[1].fun,marker='+',c='b',s=50, label = 'Nelder_Mead_point1')\n",
        "\n",
        "plt.scatter(Nelder_Mead_results[2].x[0],-Nelder_Mead_results[2].fun,marker='s',c='b',s=20, label = 'Nelder_Mead_point1')\n",
        "\n",
        "plt.scatter(CG_results[0].x[0],-CG_results[0].fun,marker='o',c='r',s=20, label = 'CG_point1')\n",
        "\n",
        "plt.scatter(CG_results[1].x[0],-CG_results[1].fun,marker='+',c='r',s=50, label = 'CG_point2')\n",
        "\n",
        "plt.scatter(CG_results[2].x[0],-CG_results[2].fun,marker='s',c='r',s=20, label = 'CG_point3')\n",
        "\n",
        "plt.scatter(L_BFGS_results[0].x[0],-L_BFGS_results[0].fun,marker='o',c='k',s=20,label ='L_BFGS_point1')\n",
        "\n",
        "plt.scatter(L_BFGS_results[1].x[0],-L_BFGS_results[1].fun,marker='+',c='k',s=50,label ='L_BFGS_point2')\n",
        "\n",
        "plt.scatter(L_BFGS_results[2].x[0],-L_BFGS_results[2].fun,marker='s',c='k',s=20,label ='L_BFGS_point3')\n",
        "\n",
        "plt.scatter(gp_results[0].x[0],-gp_results[0].fun,marker='o',c='c',s=20,label ='BaesianOpt_point1')\n",
        "\n",
        "plt.scatter(gp_results[1].x[0],-gp_results[1].fun,marker='+',c='c',s=50,label ='BaesianOpt_point2')\n",
        "\n",
        "plt.scatter(gp_results[2].x[0],-gp_results[2].fun,marker='s',c='c',s=20,label ='BaesianOpt_point3')\n",
        "\n",
        "plt.scatter(0.000744,92.6,s=20,label ='GridSearch')\n",
        "plt.scatter(0.000538,91.51666,s=20,label ='RandomSearch')\n",
        "\n",
        "\n",
        "plt.xlabel('Leaning Rate [-]')\n",
        "\n",
        "plt.ylabel('Accuracy [%]')\n",
        "plt.legend(frameon = False)"
      ],
      "execution_count": 76,
      "outputs": [
        {
          "output_type": "execute_result",
          "data": {
            "text/plain": [
              "<matplotlib.legend.Legend at 0x7feb45adb1d0>"
            ]
          },
          "metadata": {
            "tags": []
          },
          "execution_count": 76
        },
        {
          "output_type": "display_data",
          "data": {
            "image/png": "[encoded data removed]",
            "text/plain": [
              "<Figure size 720x360 with 1 Axes>"
            ]
          },
          "metadata": {
            "tags": [],
            "needs_background": "light"
          }
        }
      ]
    },
    {
      "cell_type": "code",
      "metadata": {
        "id": "ZFeqeHMYUSak"
      },
      "source": [
        ""
      ],
      "execution_count": null,
      "outputs": []
    }
  ]
}